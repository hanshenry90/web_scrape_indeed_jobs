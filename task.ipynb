{
 "cells": [
  {
   "cell_type": "code",
   "execution_count": 5,
   "metadata": {
    "collapsed": true
   },
   "outputs": [],
   "source": [
    "import requests\n",
    "from urllib import urlencode # This module provides a high-level interface for fetching data across the World Wide Web\n",
    "from bs4 import BeautifulSoup\n",
    "import re\n",
    "import numpy as np\n",
    "from time import sleep\n",
    "from nltk.tokenize import sent_tokenize, word_tokenize\n",
    "\n",
    "links=[]\n",
    "\n",
    "def get_url():\n",
    "    \n",
    "    \"\"\"Get the main searching page url\"\"\"\n",
    "    base = 'https://www.indeed.com/jobs?'\n",
    "    q = 'data scientist'\n",
    "\n",
    "    for i in np.linspace(10, 50, 5, dtype= 'int'):\n",
    "        page = i\n",
    "        url = base + urlencode({'q':q}) + '&' + urlencode({'start':page})\n",
    "        print url\n",
    "        \n",
    "        sleep(10) # added delay to ensure indeed server does not reject url requests\n",
    "        \n",
    "        \"\"\"Scraping job title href links from the main searched page \"\"\"\n",
    "        try:\n",
    "            r = requests.get(url)\n",
    "        except requests.exceptions.ConnectionError: # solves for indeed server rejecting url requests\n",
    "            r.status_code = \"Connection refused\"\n",
    "            \n",
    "        soup =  BeautifulSoup(r.text, 'html.parser') # parse into html\n",
    "        results = soup.find_all('a', attrs={'data-tn-element':'jobTitle'})\n",
    "\n",
    "        base_2 = 'https://www.indeed.com'\n",
    "\n",
    "        for i in results:\n",
    "            links.append(base_2 + i['href'])\n",
    "\n",
    "    return links"
   ]
  },
  {
   "cell_type": "code",
   "execution_count": 6,
   "metadata": {
    "collapsed": false
   },
   "outputs": [
    {
     "name": "stdout",
     "output_type": "stream",
     "text": [
      "https://www.indeed.com/jobs?q=data+scientist&start=10\n",
      "https://www.indeed.com/jobs?q=data+scientist&start=20\n",
      "https://www.indeed.com/jobs?q=data+scientist&start=30\n",
      "https://www.indeed.com/jobs?q=data+scientist&start=40\n",
      "https://www.indeed.com/jobs?q=data+scientist&start=50\n"
     ]
    },
    {
     "data": {
      "text/plain": [
       "[u'https://www.indeed.com/pagead/clk?mo=r&ad=-6NYlbfkN0AMJeVuk4ECd5K_1LfpdW7JxefdFJh_RJqhU5XMhpZ8EfxDLCxSSPXlPWaXB-ucFdR2wXZnGOumXYiUc6t9K4EbrJ7fvFmAN6KtszHkDE_XU4KfO_dqr3NHgXZRQNqQwrGUr7URcMVqAw6jbxCK723e8OscVplSXQMrMN5efVmLyChP2SIUVMtEzjk6RGz39DH2oF3L2GRz4V4C44ZRLAPHV7GbEYglHCjpvKm6_-lNH2oWym_F7Xph-Wc9aC55pGbQ_mhAs1f8wJ00xvIOVKGK_oBxx_AagT5T9EtYhlxKSsAmDB_CpLKr82P2BST8NDIUDGwKSwEwwsx5x3U83hoMB52BS1TFaXMOT-ztv7RSeVVPJ7xc7fmgw6K-7XDvNxIwTVZNTCiB9hFf7a8AIoftnTAz6-njS2JIyZflE5xM691c5EN5qzm7h2nO65TOMwWEPoMyAcR21kmK5VDtBK4TlgqsZzdG1KLpldAVXmFj8d31OTtRTaOLLuSgIyJiWCdsyQg7OvGlKSysd--ACES7dlXfUz0RJNyeVjC0OP4b_-t4hxVxj85DGfNH8zdLXYYEBEvu2MIPIQJ3VQZi4Yx7xXbHmTH71wBvSeu3wNX4Fw==&vjs=3&p=1&sk=&fvj=0',\n",
       " u'https://www.indeed.com/pagead/clk?mo=r&ad=-6NYlbfkN0AMJeVuk4ECd5K_1LfpdW7JxefdFJh_RJqhU5XMhpZ8EfxDLCxSSPXlPWaXB-ucFdSStkipA3z6gDsg5rtwTRhhksiVki51wYLTiV4jgfZrYuN5dPa3-ovFYZ_9udK7GXShP-4m9E0bUOgvtdX5vBoPcXslyhqL8gVHy9ZkY7pduX4K_AwTvYoYl1WaA-Tm0wKJq9Qo6qGP7zZ2sVMf-tHCqfmNFCm1Qu1IHK8YG_T-avVQCNiIjbZ_1-EuAuB7RwsTPnlSGyXX_DLiKk3B4327bIQhzdh9AGtgi1btaMkhueCj6KMdlEO3dG0e5ICJAVdJuVBP_trC7ATm6BsfDWycDr9r2B3Xl_Atsin0zd7Hmn83O681LUGgjtXNug9u5_G3UHtwJWQauznSHSXJKBT-TIpXlCN9dJdM2WKVe2tOqmfIx2rDJwfBZOdiot4Gg6GpCkjkU2v5bSsWbRokjht1PihCTIHaXfQ0mOpz7iPH16srQYauiPYI4hoIXtz1kLI4Y8gxneV2PdbqntuPFshcFALe50mGAcLmu0u6dVGY8oRlU9D29dRSjmoZf4BI48GfZ59pOUPlSZF02EVZ7h-wVUAGwEd2mTaoz9q4C1iL8g==&vjs=3&p=2&sk=&fvj=0',\n",
       " u'https://www.indeed.com/pagead/clk?mo=r&ad=-6NYlbfkN0CiRNM7CVr8YueLFKlzwbFWI0o7IjV438l4sVrvKZ0fliTfoNv_ONF5FvJKNaJe41M7uyHW3kQOx2mPLbyfHJrFibS8F_msQu_MlWjic_0TIT8kbijLi-SyF4s7ZGtapxUV77CxdS_5T7PKfmo-u99ue-oXR_nLy3kcVwa-sSG5rlDlUz5W8sfUy8TbTvTeMVH9VMzxnSsExZeGjDG9FvMyi1Fma7lZSZlJnJihFgtPRWXz2rU4uORbThywyyrJ051cVAOFDp07_bwlbqwGBwqN2zdSZvfiUyni5MhlZWgrqjBn57spIMlsLMoEdyC6-vzyl7q9cuGa395bgPrX1WUxdfrOfrZBo-wlR9YIwSXmqyU0YrIiEiNN-KGH2PzovhcvGzaeYQstKcD6IxnwcVYuSBGDmyX6jUGW5ROXnsbooxYPgRr8nnFiURxz6VFQuaEOTMDbQdnSOuuqwXh8oMw8CmTeKfVF02pdF0F8nyWhqIy6x_1nGh5vag4OcBQVIZGhwvgcXMoZ4A==&vjs=3&p=3&sk=&fvj=0',\n",
       " u'https://www.indeed.com/pagead/clk?mo=r&ad=-6NYlbfkN0DhVAxkc_TxySVbUOs6bxWYWOfhmDTNcVTjFFBAY1FXZ_jbp8Q_DSbxEHI3oKBhlFywPKy8iEN-gq8roOtT4ohp8abkIHTSghCdCmnimgLoJRmYEsD83gx1YNxC4N5c9xQIy6hrdKGIpSHmoysqJz0sLnLeL-V1Z82A1PyTeR6_DT8Ag6D6oQgmrPZYxy22sudwgallFEFzRqgVlnwSsxsC6X6a6VPi5Au8NkvALL3oH508lp4tSZh6Bgq5kc6slbF4mvUHir0YuEG1jYBs4HeGyvQwglXFq9qd_iQONjoFPeFB0dhrtOZMphP_KRJLG6Cepaf-paql9LLNt7I3Jvg_r6EhqkZ9qv9EGZvhSF38yStwMa7Mq2Fl8K9wGnkGVri3bUyyA9m5Ou2c7ZxdwwSFiZ49aV30FE5XrfaB6TEfRSo7RhBp--DwnSZ6SPTcQ8vlRsjQ2r9Efg==&vjs=3&p=4&sk=&fvj=0',\n",
       " u'https://www.indeed.com/rc/clk?jk=e2452fcef68a384e&fccid=1f773401da480d04&vjs=3',\n",
       " u'https://www.indeed.com/company/CareMessage/jobs/Data-Scientist-15c6c0e862e8609b?fccid=447e72909a003ac3&vjs=3',\n",
       " u'https://www.indeed.com/rc/clk?jk=045c75c90fef739d&fccid=c46d0116f6e69eae&vjs=3',\n",
       " u'https://www.indeed.com/rc/clk?jk=2660758f3e6de4e6&fccid=c1099851e9794854&vjs=3',\n",
       " u'https://www.indeed.com/rc/clk?jk=6b7c10640f438c03&fccid=0c39fb2c91742dcf&vjs=3',\n",
       " u'https://www.indeed.com/rc/clk?jk=f4a29c11a7f53c79&fccid=617d7f961cfcf54a&vjs=3',\n",
       " u'https://www.indeed.com/rc/clk?jk=ebcefaa77034f5f1&fccid=9e03deda32480ae5&vjs=3',\n",
       " u'https://www.indeed.com/rc/clk?jk=046a57c04fb4b071&fccid=734cb5a01ee60f80&vjs=3',\n",
       " u'https://www.indeed.com/company/Ettain-Group/jobs/Data-Scientist-cca8b74ab2405899?fccid=83521c7ddcce62b1&vjs=3',\n",
       " u'https://www.indeed.com/rc/clk?jk=ff47e6d35acb8ad6&fccid=da3c7fed78dd1607&vjs=3',\n",
       " u'https://www.indeed.com/pagead/clk?mo=r&ad=-6NYlbfkN0CsfdziGcgPFzRLQEEL-dAjxA4MCuzdnvsSgC-lFWMKhu5WHIXvdQ5IggPquQ7fBsAKNQ4xgR8rxa99dhbyl0E6xQ_x1G0Rupy-qkVd2GrDEwa_jbHLARm46YBpjWjOQXtjg0EYST_g1hrN8eQqgbkzDELRO4CbZMSxw3Ha_SAuWOuJ2yzeS34Jk9U5BkajgEZkIJ8dTBFf_0mtT-1jDI92tDUdr8cYA8cZZAdRGmB0xsUpOKtT6iRALpTnJ-JmvEXTJ8bCPiazaitLCOjKLy7Y7FF31q6kJfQSnvzxP2nwJBJwrJRsBGfL8Qwib5stGa__tlXI0W98__fpi5UF_VPKFkVvpGAtgGGp9CRBD_3RiDfPNBBoby7W4ZZXfih-JhbCsaHUeftrz1Y9Q6fCbjx7Uxb-le0r6TB1Xsw6yK59Sg==&vjs=3&p=5&sk=&fvj=1',\n",
       " u'https://www.indeed.com/pagead/clk?mo=r&ad=-6NYlbfkN0AMJeVuk4ECd5K_1LfpdW7JxefdFJh_RJqhU5XMhpZ8EfxDLCxSSPXlPWaXB-ucFdQ0k4SXNq2wM2BfIscOVjXgBGhmiBv8G6BL2RCKbfjTrAt2Gdt6bQwierE34ZQp6StocDklvzqulTmhF97RWA0rX3GDPgkTkGlBB9ctuZhaa8IJ3gL5xSrL7Y0NfvSciwhwXzv4jyJxEBD3W33zNr6C3tgpwITraOh29WXB69j3Sj1n1f29Bmbna20uu8P8So6bHXF_P3NayaNUcYn1W0L469tD4SqcKJj32QOT9XOu7ZPc3L8Ds65S5yY0cqW1ajOB_ufWDGpp0a0mFA4DguVwoZEhW5BFEY8c6wfDp5PzDXXqjA3rF75ArBMq0b9T4TvGNzRaRLRLG5NdRpJRV4CWyrt-WN_6WbKRf6UNUoXFIpMYGKTH_y3J1T0BCQZjlYvnOdIcR5UPZ357zBAn17AXcOAg-3YhO4BG7PsKOTERzvHrhH44fZsWfUQK45df_naZ947hsr9SqmIj5b6at2FUwFAnIeQTM2DlZv2qCEMdiMmnzoRfXAPkR1z5Wi5kWs9CXtYXV3QquI9oMlbzUCRwa7gRSaf573B6bwQp3rVuig==&vjs=3&p=6&sk=&fvj=0',\n",
       " u'https://www.indeed.com/pagead/clk?mo=r&ad=-6NYlbfkN0CiRNM7CVr8YueLFKlzwbFWI0o7IjV438l4sVrvKZ0fliTfoNv_ONF5FvJKNaJe41M7uyHW3kQOx2mPLbyfHJrFibS8F_msQu_MlWjic_0TIT8kbijLi-SyF4s7ZGtapxUV77CxdS_5T7PKfmo-u99u7NusgSdnh6EB67pLDt9czP_eCHAGDPi67nB4BkRn7EqAsv_5cK79ULhye9A_3R_0bq1EtF0rFG85jzGv0WH-bPwiL53kQFa4DzjNTxqFfjbysZ9oV7SA-5WR0N3_Rjk2kVcwaNDu4KWIdF9Qiou3tB9WhDUCaFYX-GwTHPBuHPEm3JxFbZspSCubFBowtC_H-UtjlvvggyTUTa-WQL5_jYONVterd_n27uyt9JUeBjsI43nwRKdDiRIwvWdyqJLjjmFlLNjQ1c2m-SBiJ2n9rQ75augjr9NMS78_ZxudqI1SJmJ9s4GfIEj0LPX3ACGINFqpF3ByjSW_nHfaOiXfNbHgdTSmidQ_XYw_Nc5nFHVg8uKW4WeDMg==&vjs=3&p=1&sk=&fvj=0',\n",
       " u'https://www.indeed.com/pagead/clk?mo=r&ad=-6NYlbfkN0DhVAxkc_TxySVbUOs6bxWYWOfhmDTNcVTjFFBAY1FXZ_jbp8Q_DSbxEHI3oKBhlFywPKy8iEN-gq8roOtT4ohp8abkIHTSghCdCmnimgLoJRmYEsD83gx1YNxC4N5c9xQIy6hrdKGIpSHmoysqJz0sU4C87bj6DAN3I5auBEr3tFP0BQARkXlUa0XJsfP6HrDudvK6PLzGnlJGzD4Xks5HXmuji-XZr_3s_GCbAXSxq0yYBoMbdtLahn1O4qKP5b9x3twNH-GMfeIL7WD18xJlqlDnzJhgTc0fCsPg47PPuI2T9lWwDWFz9BC3V7wUYfo_ODwBddoru_6tN-85OCIq6yeLC5TDTshjPrPTGzkm03mrnbXhMTXEFox6XhrosfHUjgfsh24W-Gzkb5nqIIBuM_Vs162E_AwSQ_i5h-A0qizW6AIWfRjhkiOOky4J_THHWEmfp59B3w==&vjs=3&p=2&sk=&fvj=0',\n",
       " u'https://www.indeed.com/pagead/clk?mo=r&ad=-6NYlbfkN0AMJeVuk4ECd5K_1LfpdW7JxefdFJh_RJqhU5XMhpZ8EfxDLCxSSPXlPWaXB-ucFdQ0k4SXNq2wM2BfIscOVjXgBGhmiBv8G6BL2RCKbfjTrAt2Gdt6bQwierE34ZQp6StocDklvzqulUll9xEJ77XfGwj4qwywXTRPwcw0DBHuIbBHeMzDpg8HLGfbbWgsMpfhbANbh5mRk6TiSEyULNclsdnKZfy13KnhGR8Lw7Zb1qxqYyZVrdeGPFEJfpNYEygzCFsQt_nuqC0uZfrYRV0t3WO3pAv79QCnpk21ZTn_dnpQ_rXPCkDngkb1YZ83SdFbJ1RhDwhXKFpFuBQp93PEGEp8uX1HIgyj2WRnHyPGd3LMYZ_5xyVxPYtZC7vmcidHEPWj-fPju-tn7fhdNukAgHwejhZcq3C3W32HJiQ1HT0_NMFGMggqN-neFwPfq0BrrjOdPpjxHvEYj1sk6Z9NXqgb_AEEqMecjWiFwUd_GlzpblKOnsS-sCkamslXJF3lOX9K43L5lwmbgqHU3Kvfyts4ZdEnbsbQmzPwB-78VR4Lkn-T9Uo2w0qjcblHBlXtAnOiwrBdTYU2glq4A_-Bf4jOgRp2zhQZteYUAn1X5g==&vjs=3&p=3&sk=&fvj=0',\n",
       " u'https://www.indeed.com/rc/clk?jk=ff47e6d35acb8ad6&fccid=da3c7fed78dd1607&vjs=3',\n",
       " u'https://www.indeed.com/rc/clk?jk=3c725cf7902d5a31&fccid=027d7cca25a5d14f&vjs=3',\n",
       " u'https://www.indeed.com/rc/clk?jk=78bab3866d2dc360&fccid=8ebebfc7aefe4ce4&vjs=3',\n",
       " u'https://www.indeed.com/rc/clk?jk=1113b60dfdbccad8&fccid=fe2d21eef233e94a&vjs=3',\n",
       " u'https://www.indeed.com/rc/clk?jk=1e225c34f798bd7e&fccid=4e42ec53f4b93e02&vjs=3',\n",
       " u'https://www.indeed.com/rc/clk?jk=5f8bae86370ce56b&fccid=a1637354a78054f1&vjs=3',\n",
       " u'https://www.indeed.com/rc/clk?jk=6312579b753edd47&fccid=7325fb0c23edfd15&vjs=3',\n",
       " u'https://www.indeed.com/company/Brain-Power/jobs/Data-Scientist-Machine-Learning-06f42ad2d9e6ae2a?fccid=58fd4f7c03b2ada4&vjs=3',\n",
       " u'https://www.indeed.com/rc/clk?jk=3e86ef37a01edf3d&fccid=58c732f14833248a&vjs=3',\n",
       " u'https://www.indeed.com/rc/clk?jk=3176d5e04d6782de&fccid=5f1f0e6dcc6cbc83&vjs=3',\n",
       " u'https://www.indeed.com/pagead/clk?mo=r&ad=-6NYlbfkN0AH1wurqcDHrhqXlg_E7KBNy0EO3vax-gEhzjAOHa7OxyFwSAK6SqBwaoTjjIPFoPl_TSvNIu0t5ITtpxAZfKuwQj0cBfKmX-2n0JjgaQ8BtOkJmhmMmphPplF6d2GDirKXP4Z2773qteXisxi0S4bgVyyBqkf1eNeEo5fPRzTcqxXFvUQZAURlCdOheJcbdhxfoUwbgX4pIVipUMBmRMZ-GewyRBkWup26rRmhwyJnmseYEGV8lzw65DxhbtrqiU7ayLJfGFHJAviJKoHgKIE2hGvJYRfACHDhd8gTl_87RZ0obPieBaM8DwWVoreHaVpdzrmU3AIXXOEIt0AGRPf5tSrjSIKUhdSa6qGpr1GZpsV-CVhmgBwWKINFb7xKPCYvEUxCLUjw1B-EZJiQMn8RYyzkXsSi3CU=&vjs=3&p=4&sk=&fvj=1',\n",
       " u'https://www.indeed.com/pagead/clk?mo=r&ad=-6NYlbfkN0AdTi31mPfh2taQJe9NAvElpRCS6_LgxMpfrULd8mFIYoWQndX_e5mjOeFKY6K6e1PtZfjzrKCgmqX6KEiFZaSv4nLdMdD_aMMLxyKnPMdZwR2Qxka_idFglExWZ4W-Nsvw-hENFWlE0glgwXpzF_fp65tJVnv042xwMgWoNyFwDaAOqTxpzzJTdkYnifJa2-HVz8LQom7vhyBMNMBl4250Va_NMp6_pThRglnczKepDyuECF4bdOKXJiuCBFa431e7bNNyNY7FJ8bc2xyDf0sH7YREPjOcYgG26gLC7Er81dp4fXC988m6cehp6F9WlDnJw6Q29ZQ12YdpGIk1GggcxGNcERic2Kc3kpn7C0kjwWKCnrAF8heF7IqyPx_barOLc59zeaIlSFR9W1sPqqrAI0bx-dof-w725Q8QWKn2EQ==&vjs=3&p=5&sk=&fvj=1',\n",
       " u'https://www.indeed.com/pagead/clk?mo=r&ad=-6NYlbfkN0CsfdziGcgPFzRLQEEL-dAjxA4MCuzdnvsSgC-lFWMKhu5WHIXvdQ5IggPquQ7fBsAKNQ4xgR8rxa99dhbyl0E6xQ_x1G0Rupy-qkVd2GrDEwa_jbHLARm46YBpjWjOQXtjg0EYST_g1hrN8eQqgbkzNODKQdwUn84BKExOpU5IupOrRVge-z92wQQCbWn38xF-LE8y0dM3MSSHJdera3cjv7W1I_oQ6KG6180gxSwv31tbkyU1W27ZiQ4fA2M56A2X0fIAFlhDf7UyuHw5RY0JGvxjK8ZJOv0FHgLfH9HcgNtQiu-2Y7jlVRiyAraEojslsG57yO61OnloNS_eKaPiAmohBGOTvvY4Tj8U_lZGp1KxevwQkk4rJLauL0_ZnQwdYzHShZev_Dq_rrvyI-1ahflIUsnfVN2ftfZ5SzQe_g==&vjs=3&p=6&sk=&fvj=1',\n",
       " u'https://www.indeed.com/pagead/clk?mo=r&ad=-6NYlbfkN0AMJeVuk4ECd5K_1LfpdW7JxefdFJh_RJqhU5XMhpZ8EfxDLCxSSPXlPWaXB-ucFdQ0k4SXNq2wM2BfIscOVjXgBGhmiBv8G6BL2RCKbfjTrAt2Gdt6bQwierE34ZQp6StocDklvzqule0pRCHSVwY1TRDouk4pHJF6PZH1fPvR9a4xgY_qbgtsHUkCga4vRnziGlVKrikkxqPcvKZPKDlDIQCh_lrejOq67rqH4rSA9GVysj6JH0rHCBvcHvJwHYQvdGNrol7eQhPl3ioZ0Uhc0ZzXwCHM-jdAwzjCtduNWRg009q-igP0WC_6uEjvV92KUo9nvjkHFiGHRdrRBgf75Rznp9mI8a5Fwdcmsq6ORvSKBW9UIAEPsrm00RLNKy7tKcDDToupDeY_J3yRYR9V6gdwbEKYkU_XCZD9zYeVVT7yH7mKGsXdRas_bJoxZnbuc0-CqzqCn9xMgYsNFVjGgpWEa6txaF9X1GtHzmxTbtD-EPMQ0Vwmw-6g8arj8gKKu50ud7pHWv2AEUu3f5SBG_CMUYywDO57Lg3BZ7xZyh_cBLnXLCBK8mTtMW3TFj_Hcs5CskB4vZ0nY5fajsbFfUM0VgUm8ma53ZydYGJ12Q==&vjs=3&p=1&sk=&fvj=0',\n",
       " u'https://www.indeed.com/pagead/clk?mo=r&ad=-6NYlbfkN0AMJeVuk4ECd5K_1LfpdW7JxefdFJh_RJqhU5XMhpZ8EfxDLCxSSPXlPWaXB-ucFdR2wXZnGOumXYiUc6t9K4EbrJ7fvFmAN6KtszHkDE_XU4KfO_dqr3NHgXZRQNqQwrGUr7URcMVqA3E0jvuYHt9Pz63vXpPwOXTVttWcSQFwwNLDRgguo1re1UWSRe8ZyiZf8Q-srwU87k8RMgvdhxuVMFAZVv53znAxB8paPFBCFMS7T781OisNOc0DKilGJ0B1bAUGnS1C_QrU9CiGsJVi9m6Bv01yp5TiJz4a15mrKQb-R7xQcZcXMBDgLumv6gK0puNXiJyE175v7Bd7Btm9Tu_50I52MEMr0v-Zq8cUd9kDiCP4_8QLjs5EbmUl0QvY9-jfm66rD0b2-5_t1paV5mOKDIf9Uvo0hHyGCyPTy9cXm1VpGAP4uQc5FBMSBhrRGUIhF_Dga0Mp8k9jdEd73xj82GzeTSvMuFtu1O3JXf0ziFwV_wdxuzs2acSSoxr1xNghzERdrNiGTA1yL2IwJe2ydIvCLTRhr9vR8OGANOlh6cRfYY63a9BuQ-T2oPeT8NaskUOMW_KA9CApWm_4CF4WoT14thX7o5NCtHRxuw==&vjs=3&p=2&sk=&fvj=0',\n",
       " u'https://www.indeed.com/pagead/clk?mo=r&ad=-6NYlbfkN0AMJeVuk4ECd5K_1LfpdW7JxefdFJh_RJqhU5XMhpZ8EfxDLCxSSPXlPWaXB-ucFdSStkipA3z6gDsg5rtwTRhhksiVki51wYLTiV4jgfZrYuN5dPa3-ovFYZ_9udK7GXShP-4m9E0bUMOT-whRuMQcjzaXl4FExabHEqEMdhB38ozpK4m2VrozniHTAxCE9_pYt_vZOdctIIMzEsKqK7TTWIhhgM9nhPvpivtL45R14OEwRTrgVLIeOgL7Hk-agKbG0AAWT_2rBQUTHm2olZzvY5o7spRPjD4lo1p7zNOLxD0sIX8QAWd-v1RZJziEYjZ28oIZa-dZ9IRLPGEDScXdey6M4vJAT99QyGO2sFfuNsnUkvHJ99_fQpWxHpVXNUzCTceicehOi1uybV6vNJ4Mkn3zGT2MC692PUymH1Bt9MjrYyDGvHppwofYnqSnjWNsrvL0a46db0hc9zyho5R0PCOc-nZ4MNDPCLRo22qCWrwh6ODaoH-Ni-1D-5pkFYtXHp9zETQnlbY5Opft0yriMvyYmc0tUsrPIypfDcNLvOvpDLOocedpJYy4kVD1-yJosXRGOcg2SOUbRqur347DbLDfbyCWHV-vioaidqoTxw==&vjs=3&p=3&sk=&fvj=0',\n",
       " u'https://www.indeed.com/company/Brain-Power/jobs/Data-Scientist-Machine-Learning-06f42ad2d9e6ae2a?fccid=58fd4f7c03b2ada4&vjs=3',\n",
       " u'https://www.indeed.com/rc/clk?jk=3e86ef37a01edf3d&fccid=58c732f14833248a&vjs=3',\n",
       " u'https://www.indeed.com/company/TouchPal/jobs/Data-Scientist-631c7b096e6f52ca?fccid=abf88f6babcd4434&vjs=3',\n",
       " u'https://www.indeed.com/company/TruckIT/jobs/Data-Scientist-1574a00fdeee048f?fccid=f3df6aca7d0f79d2&vjs=3',\n",
       " u'https://www.indeed.com/rc/clk?jk=5cd0bd1215808589&fccid=a675a7038edf48c9&vjs=3',\n",
       " u'https://www.indeed.com/company/Incept-Data-Solutions,-Inc/jobs/Statistician-659ed958a2d855f3?fccid=7aa88bd77c4e02c5&vjs=3',\n",
       " u'https://www.indeed.com/company/TekHiring.com/jobs/Data-Scientist-792b067b6941aeb8?fccid=b13a6aecd647c160&vjs=3',\n",
       " u'https://www.indeed.com/rc/clk?jk=d01306e5438451c6&fccid=1639254ea84748b5&vjs=3',\n",
       " u'https://www.indeed.com/rc/clk?jk=555e9f4eb2e54735&fccid=3209cb17a2b4f98a&vjs=3',\n",
       " u'https://www.indeed.com/rc/clk?jk=dd9ca6e63496b554&fccid=a3f737e511d9fc8c&vjs=3',\n",
       " u'https://www.indeed.com/pagead/clk?mo=r&ad=-6NYlbfkN0DhVAxkc_TxySVbUOs6bxWYWOfhmDTNcVTjFFBAY1FXZ_jbp8Q_DSbxEHI3oKBhlFywPKy8iEN-gq8roOtT4ohp8abkIHTSghCdCmnimgLoJRmYEsD83gx1YNxC4N5c9xQIy6hrdKGIpSHmoysqJz0sue1Xx00I-83XdBREXnVZDV5-bbeDzgTWBg8qVvBS-_B_FgjyH6De5-tkaoqMMe26tUxm3gQWeUFGoxUs463_Ea3qp6tvBPNJFrZMsOKkUVtvlv13KOZy8235xy9ZuzGhlYikUkPYPmLow2yrTUSCGmlrGDNa-9mV5j1EiKUXNytsuHQ99jRvX5zbXzr4fC4MK0mKYl5NbnyhRavW80bbDiihxYvp8FCB1pqbaTnpC8m2upYWf1KMpYElivvBMFbOU13Cp0EQdZIvko7qQojECwGDqzhIMacagR0O7IBmS5TXO0p9UFlNsQ==&vjs=3&p=4&sk=&fvj=0',\n",
       " u'https://www.indeed.com/pagead/clk?mo=r&ad=-6NYlbfkN0CiRNM7CVr8YueLFKlzwbFWI0o7IjV438l4sVrvKZ0fliTfoNv_ONF5FvJKNaJe41M7uyHW3kQOx2mPLbyfHJrFibS8F_msQu_MlWjic_0TIT8kbijLi-SyF4s7ZGtapxUV77CxdS_5T7PKfmo-u99uQC63bRozd02VkEB7oz29MFewFEpoT1k9OGLeTfpRo4GgKPYKW7GUPQibq2SpwL_w86U2_3s22sqHRrWn1QJF00K9RINR4TWlQKEf_FHrGWUO57fVEsM3KCZR97XqmGGRCj3l3KrO7NufGincRwlBcyNKALnml8b0gcoH9WK6UQmzZvanrUi4YCEqw4idAi4pqxm2ocSgzQumqarsDt43ROxix5BU_vtBoRWuvfCZAEDV2X0kZcqovH1-V6jXuTX3Iv7Em1CgQxQTNDb6vq7KifrdM6MZm-2Myu6KGuxPEJJOLDDJtSSRJCVTZVJfR30XEKWsrwSbuTSFluUFVGPSYiFeoaRTc4I7oDXjgL_WYUOu4_rMTLXrfQ==&vjs=3&p=5&sk=&fvj=0',\n",
       " u'https://www.indeed.com/pagead/clk?mo=r&ad=-6NYlbfkN0AMJeVuk4ECd5K_1LfpdW7JxefdFJh_RJqhU5XMhpZ8EfxDLCxSSPXlPWaXB-ucFdSStkipA3z6gDsg5rtwTRhhksiVki51wYLTiV4jgfZrYuN5dPa3-ovFYZ_9udK7GXShP-4m9E0bUFQlHRiuNcj9M-wgAmy4PByX3H33XLZat5h_uyWf7t3Dddt2oy9oVvXdRQ5Lz4xfFiPexbAoGxgtsdSfpBcRotVlHLJ_MHbrYCISzxsqaik-VTZmcPBC38VjshKRvVTeb1p64rJc_t04exsOC4N2ut99DpPeYudUd2lJ_xNR4aejfM0jjY6bkZB5NTmNrmlA1XhyGcC_ZSz28-fN0EdqTmLcqYBHFCIyxRMfZyTDlbwT-enReb1z0d49ijWltf4sMZQufe637pwIw6xddXoEizDWCuEnnh3mfiHVMbH1r_P6PdCuN-RZWbdobO8AJiMMMCQvMVvya5URrNik8NZKGb3mV6RjoPm5nnezdeOG1ZVa5jfXjA9gPWb6RJEpFaeVSopEcxat73FEXGxOGECK4GKDoX0GezU5tCBLVA5pLloylAWLKisWuuG_BQirgXHRpJ6bkMXsbTlOzr4juNzqXmIrY6MOme2xmA==&vjs=3&p=1&sk=&fvj=0',\n",
       " u'https://www.indeed.com/pagead/clk?mo=r&ad=-6NYlbfkN0CiRNM7CVr8YueLFKlzwbFWI0o7IjV438l4sVrvKZ0fliTfoNv_ONF5FvJKNaJe41M7uyHW3kQOx2mPLbyfHJrFibS8F_msQu_MlWjic_0TIT8kbijLi-SyF4s7ZGtapxUV77CxdS_5T7PKfmo-u99utztdD_Qy9RQp7axdPetQdFdcd7qJZ_sZHETaJkG7FMmhbTAsMw8WaRtDhwtcitGD2qNtVm56SqvZIYGuJxx6DIFUn0hK7rBUH9yQEw6NLTbZI68g5fzjcX8wlG8Th4lzbMRzdN_lkObkJfctVSWnH0pfKEuAn_Y_say32TiQqdreLYB3VVo21KzQ4XLb_ss7VSE69i1S9qaMbXCmHi-gg0xHmUrvkWY-WIf3EeBwK-OjIbJJ8h1ne9YnLmHr5YdlExxC-yH0BKHo3pPie8gHw-bMpKOXmenBimb79wNRdMjfZToVVQ8jvP-yEj_2mptZIxc67yYQUPCSbaI0nW9OcbJK_Lb0ppZ0u4k67-hdE1XErqLA7gfE_A==&vjs=3&p=2&sk=&fvj=0',\n",
       " u'https://www.indeed.com/pagead/clk?mo=r&ad=-6NYlbfkN0AMJeVuk4ECd5K_1LfpdW7JxefdFJh_RJqhU5XMhpZ8EfxDLCxSSPXlPWaXB-ucFdQ0k4SXNq2wM2BfIscOVjXgBGhmiBv8G6BL2RCKbfjTrAt2Gdt6bQwierE34ZQp6StocDklvzqulWy7BqGi-pbZ8ls0dErylB1iplbTVsqpi_0JlH6-kKKp5vJ04gNlhx1s4S7o2hpZnJ66FETnOQrWFDNOpFuokRRXheSOKO249Ff_qdIfPuWuIqU_5on9MPEL8NM_SFX4EevpD-uVwVh-7Jfte_BGkfHLesGJYUdtydohy3Om0wWwHJkRn8NI7uVcGrRA8IQrf9ErAoqkeU9t2zwR8-PzITZHV-u0f6RXkn8sVulMlGz9cUJtrWfIw5mDXBy_u33RhOW2WqywFkB1VoDeM1DOjnhCtzqDZItAQMUEa2F189Q62UMzJ4aae78oeQ-gkUNhhCmspbu2dNzdiVX2GT-kXNQ2PcCIWXYuXGchCHMjeMZc2CPPTsXhaL4bB245FVk69poexMfyv3lvlb5UT0eW6Ou0Xh7P1WkUX9RFJ8R9yROEv0ULLjC3EBK2HtMExFbCsD3Vlpd15lSfWwKMhrc-4tw-UEA1wp3lyw==&vjs=3&p=3&sk=&fvj=0',\n",
       " u'https://www.indeed.com/rc/clk?jk=e18398cd05463fa1&fccid=da5d549eaca5bf0d&vjs=3',\n",
       " u'https://www.indeed.com/rc/clk?jk=d01306e5438451c6&fccid=1639254ea84748b5&vjs=3',\n",
       " u'https://www.indeed.com/rc/clk?jk=7b8783ac8c976b13&fccid=f057e04c37cca134&vjs=3',\n",
       " u'https://www.indeed.com/rc/clk?jk=1e225c34f798bd7e&fccid=4e42ec53f4b93e02&vjs=3',\n",
       " u'https://www.indeed.com/rc/clk?jk=efbb58c83a69e008&fccid=6ae120d562656824&vjs=3',\n",
       " u'https://www.indeed.com/rc/clk?jk=e0a5ead3f3c29330&fccid=dd03116e6e960b93&vjs=3',\n",
       " u'https://www.indeed.com/company/Rashmi/jobs/Data-Scientist-ebdbfaf486d0566c?fccid=39632308f571c6d7&vjs=3',\n",
       " u'https://www.indeed.com/rc/clk?jk=36b20e2ddb47fceb&fccid=ae04332349a994b0&vjs=3',\n",
       " u'https://www.indeed.com/rc/clk?jk=9865aab9ce5623af&fccid=fea34c44eddebdae&vjs=3',\n",
       " u'https://www.indeed.com/company/Fierceli-Inc./jobs/Data-Scientist-00b10f55c9bf13d3?fccid=1a9b9197b4a9a4c6&vjs=3',\n",
       " u'https://www.indeed.com/pagead/clk?mo=r&ad=-6NYlbfkN0DhVAxkc_TxySVbUOs6bxWYWOfhmDTNcVTjFFBAY1FXZ_jbp8Q_DSbxEHI3oKBhlFywPKy8iEN-gq8roOtT4ohp8abkIHTSghCdCmnimgLoJRmYEsD83gx1YNxC4N5c9xQIy6hrdKGIpSHmoysqJz0s80LuNwb1qWSwnddwswOjC0NZHUnoZMi2JXOCEyM2tWTMOyes2eFhTSMoOsiRnZFOM1xesfjy4yQ-Wlgvq4PqZTsww2gogvcDMAJkBdemIvYBZvkX0mijigAqM9mmAoEv5jYmA4BAAQFnAygn8YINFteiyuEUMv2x858aUIabRYGfoGTik15Nl8XdjQh1xCwfDaBB3SRfB-f7YSWDlAT9_4YLqtrBGgNE5eXooUfu7C6o8eh9ZoEFe8H4ngKTpLi7XfrupuNiLnnKp618o0jR-rfvlLsviNhHZPJkQwDzMtNJNdBfSIGFUQ==&vjs=3&p=4&sk=&fvj=0',\n",
       " u'https://www.indeed.com/pagead/clk?mo=r&ad=-6NYlbfkN0CsfdziGcgPFzRLQEEL-dAjxA4MCuzdnvsSgC-lFWMKhu5WHIXvdQ5IggPquQ7fBsAKNQ4xgR8rxa99dhbyl0E6xQ_x1G0Rupy-qkVd2GrDEwa_jbHLARm46YBpjWjOQXtjg0EYST_g1hrN8eQqgbkzIz3VfL6OtiuLQ432EvsBFJ9nwQUcpFVEfEaw8v3oIOWYudqjSoYqQYGZlkrEckMlx9lTm6ORZb-5fnB759JAtOCHzm4Iaitf7luX9i1OxG40XHb2YR0wjVkv8KIxHy2OCr9rsbHXKsksyeW6n3Csxl3FynXv7Wz2KdyNTlvZK-chzCmAoObptgRh9i8gzU-wXXkEONeTQlBEB259yQtqRUEngxhTGDS9HdlyZVEjKkM6t4ztA8C3zf0A6zfM6JZWmMY9dohlDltkI7tSchii2g==&vjs=3&p=5&sk=&fvj=1',\n",
       " u'https://www.indeed.com/pagead/clk?mo=r&ad=-6NYlbfkN0AMJeVuk4ECd5K_1LfpdW7JxefdFJh_RJqhU5XMhpZ8EfxDLCxSSPXlPWaXB-ucFdR2wXZnGOumXYiUc6t9K4EbrJ7fvFmAN6KtszHkDE_XU4KfO_dqr3NHgXZRQNqQwrGUr7URcMVqA4zMYw3GAwb_QKxeq1kHcndHhf-McGaq2vSklsYGhLA_fa73xmwsKA21CmjCGUEccbg1s9a_2D_Nq4nqxRvdI2dtsfy6DKF4IfIDi1GjTbmqOuLKmQyGLF5v1OVfds5AE4pVLqHNEIxBpqaMSn9QUuBZJYpm2csZgRDo4v9acSoNVr9L6KzU8Q0gOu7e7BMqKvunNQhCX0FKyJwYtZWgslkUiwikfZ_gcV_Htf16MlO3tVLTHoIzp9vBb7X0sUlw_Ylq0zpJrp9U8rV7PnDGIXthv04rsl4c3p1Qu1e_nfvpth1DBBSEhghGWroXNfsvxWeUBevCCyDm8p7vwmueL8SKXuIy8Z7oRFLBb1g8K7mPYMSws20DFL6qZgnqJO61uaRuEAiuI42KZ1Ou7wNnCPhwcYESwUXwOL4C8bpxKsF4nraLwq64IjPs5_EHc3WU3Xf1fgRhl2jiD_wZuz0H0q61H6HPkSE4LQ==&vjs=3&p=6&sk=&fvj=0',\n",
       " u'https://www.indeed.com/pagead/clk?mo=r&ad=-6NYlbfkN0AMJeVuk4ECd5K_1LfpdW7JxefdFJh_RJqhU5XMhpZ8EfxDLCxSSPXlPWaXB-ucFdSStkipA3z6gDsg5rtwTRhhksiVki51wYLTiV4jgfZrYuN5dPa3-ovFYZ_9udK7GXShP-4m9E0bUFwpPQTOI2OI_3-hH1xWjzANQ4vFMZ_RFzMm3I4TQpsOgHbejekrkjB0CdxNZF33STtnJQNWXc1w9BRqe5ujvuVH_QsG2_5-u9azU3uN5EGo5azySv2nTPOzlE8lqJ2IVnXOTB-8sLNuhsy6zgGBHyYbLmE4_8PHnGTQ0G8HW5eRAJPKaOXZcn7uD9qntbVwS5mBhDJxy2ipEokkhcJ7bw9vASrBhjKOICIjhke_x6-GSt3ZyuLzTKIxnt8UQpJ_dx9tsvwm4mbRdO92mPikL8D1VjLeK_Of8OXaD9sqsnq5a98TpLJ0oQlNSZ0ppuD8oYgHS_R-e52gBYyW_ojKjzMuzCCN7wesDX-ZMJcO66dORs841KjLdNkovu3DE4ZBjD_5zTwLmrq2Aet1SluTOpbtD40Y6XJZveaAQVoiuM7WLCcRMAmPl6mRXVEk3SQu-I-DUQV7oryMhVzpaCgvXyHMsG1OSpv8rQ==&vjs=3&p=1&sk=&fvj=0',\n",
       " u'https://www.indeed.com/pagead/clk?mo=r&ad=-6NYlbfkN0CiRNM7CVr8YueLFKlzwbFWI0o7IjV438l4sVrvKZ0fliTfoNv_ONF5FvJKNaJe41M7uyHW3kQOx2mPLbyfHJrFibS8F_msQu_MlWjic_0TIT8kbijLi-SyF4s7ZGtapxUV77CxdS_5T7PKfmo-u99u0_xjKQ6s90Yn-YiIsxv00IE80JxNlGd1ErxBuOZ7u3Ml25l_LYEY9pPy8WJ_LXYw2R83cMFXUy1U6Wpb5Fn-g7aRCaLWKUAikgE1J9UlcwNZYlDo7c979Nwdi_tGkal4Thf-Nhk055f_jk8Mf1KhgrU6pn4gb76V_hU0Cj8VsP6-cnt-p-WBBHWNwJd8uqMGVhHjJzFXTDfzJXNLv3u-zc4bvPO09FyHkkxP4zEx77Q-N9Qbv7xymRM3_PIktQ2GKDAWFllB4SJycWNLoM2h6i22EBykL738OdBkQxwe0Y77r03UOMqgR771o_QZM_pyTeFstv3pbnRyG4ADElgN3q2orbk-b5LiJdpgxG5P9D3gZxAEpmbrkw==&vjs=3&p=2&sk=&fvj=0',\n",
       " u'https://www.indeed.com/pagead/clk?mo=r&ad=-6NYlbfkN0AMJeVuk4ECd5K_1LfpdW7JxefdFJh_RJqhU5XMhpZ8EfxDLCxSSPXlPWaXB-ucFdQ0k4SXNq2wM2BfIscOVjXgBGhmiBv8G6BL2RCKbfjTrAt2Gdt6bQwierE34ZQp6StocDklvzquleCSXG4l7P__aZw4b6PRzob_u9xK5lncQA5lgZf_xn9PzPF10-XirfXNCjDMXW-WivWqtL-MsUqdf-h24M57mbMkkC2oig1SwY4s88P4j_C8IUIHJyg2seqUGeDl0ld_nejCT0EKKPhuXnkg3sT6HmjCE1_wOmgVE8G02ceZOb3XjhCzGVN3BbgRqTFg6kbUgj_7nmpPGM5GCphfqke8Ko37WKfSxEE0IF260nVVDmOPSFjqMsxYI937Vs-QyuxWP2X_qZRY5R6QbJZtFDI6NUBoYUQP2EoTo-UP973E8O8Tk_lC5k56FeJR18i1z2WTV2UkiaxWyiLxk6SOgTOheMh8ilijHBJ3myiwdmDll1gN-shwfNgrLGuSKnQDrCnVANbZifIMWxs2P89YVaLrM8X8V-jXNOy4Hab3kgDZ_g43UEcuZvI7oIoizD3s-iP4mlfSSg-FWaP8CjS9E8uy6USEZyl6xPkpJQ==&vjs=3&p=3&sk=&fvj=0',\n",
       " u'https://www.indeed.com/rc/clk?jk=4268ce027f3fc37e&fccid=734cb5a01ee60f80&vjs=3',\n",
       " u'https://www.indeed.com/rc/clk?jk=88353fe52999130e&fccid=ba38f2566efaa28f&vjs=3',\n",
       " u'https://www.indeed.com/rc/clk?jk=1c90c455d5008804&fccid=fe404d18bb9eef1e&vjs=3',\n",
       " u'https://www.indeed.com/rc/clk?jk=2658b87ad5def9ff&fccid=8860dd252e565f8d&vjs=3',\n",
       " u'https://www.indeed.com/company/Evolytics/jobs/Statistical-Analyst-0a31b63c6879c91b?fccid=b9bdfb82f8f4e745&vjs=3',\n",
       " u'https://www.indeed.com/rc/clk?jk=7b8783ac8c976b13&fccid=f057e04c37cca134&vjs=3',\n",
       " u'https://www.indeed.com/company/www.maven.jobs/jobs/Data-Scientist-Hedge-Fund-24ef415d620eb8ad?fccid=cf6b8ce03b0ad9bf&vjs=3',\n",
       " u'https://www.indeed.com/company/JobRobin/jobs/Data-Scientist-af8dd608825f6bb9?fccid=5e1e4a81b1a94616&vjs=3',\n",
       " u'https://www.indeed.com/company/CloudCar/jobs/Data-Scientist-9e29b97e89c8a1e8?fccid=d036e0fd70c4ba06&vjs=3',\n",
       " u'https://www.indeed.com/rc/clk?jk=cf8bd07dacc261ee&fccid=48ecd526e3aa3225&vjs=3',\n",
       " u'https://www.indeed.com/pagead/clk?mo=r&ad=-6NYlbfkN0DhVAxkc_TxySVbUOs6bxWYWOfhmDTNcVTjFFBAY1FXZ_jbp8Q_DSbxEHI3oKBhlFywPKy8iEN-gq8roOtT4ohp8abkIHTSghCdCmnimgLoJRmYEsD83gx1YNxC4N5c9xQIy6hrdKGIpSHmoysqJz0sAZRW3Y-EQeq4HnvFzNPJeaWukhcLEWGX0iskynmuJwtajQVArIYkfvjtVYhD7GelhVysk6A6wRPBD93v66bzPVRlXFGUQGMfSIjhNs9XA4PtTpRF5u0hGeYXImNWWu7G2XQP1epkN9PDsStm7xT6gkkIAPSp68P3aAln8nZn-D5sc5UVt1jZrGKcYTizeL0Ux4SDrav2FNl-LuFb5sLbq_EG8-snpF_hl7i3tqa9ii41e8hz01jAyzHJFORUC_ZXfdCnGS7T-pz1xOlEBFpZf2PIwo6kNcluyOc8UkGNIorg6lvGQMpHbA==&vjs=3&p=4&sk=&fvj=0',\n",
       " u'https://www.indeed.com/pagead/clk?mo=r&ad=-6NYlbfkN0CsfdziGcgPFzRLQEEL-dAjxA4MCuzdnvsSgC-lFWMKhu5WHIXvdQ5IggPquQ7fBsAKNQ4xgR8rxa99dhbyl0E6xQ_x1G0Rupy-qkVd2GrDEwa_jbHLARm46YBpjWjOQXtjg0EYST_g1hrN8eQqgbkzoZx4yYF4qZO7vQ9xcNiQGcZxYAuLS4xJA46Z1cpzmV3fMkN0VRcrZDzD5OUmqjG5TalW3fWfE2z6QubtjMCNrnVD_ou0MsoAhs522Bel86HTlspDLuhfANsNsv08WZrWXV-3-I11fvsE-ZE-1uL0vtN8W4NmAEvdexAv6D6rnswuGjHwtuulOVgmbyJgnSy3DXf6znjAAW9h7zv6owhLN43zg5SFo6BVFQL7mhyMjhgiXWqV3wBVK-f08uJ9OcDhNXfEkDj7yqd8hTsqZv1bCA==&vjs=3&p=5&sk=&fvj=1',\n",
       " u'https://www.indeed.com/pagead/clk?mo=r&ad=-6NYlbfkN0AMJeVuk4ECd5K_1LfpdW7JxefdFJh_RJqhU5XMhpZ8EfxDLCxSSPXlPWaXB-ucFdR2wXZnGOumXYiUc6t9K4EbrJ7fvFmAN6KtszHkDE_XU4KfO_dqr3NHgXZRQNqQwrGUr7URcMVqAwWMpfkPxFhE9zOxrBNelvFV_Qv9JgIWidL4Vq5gWcPyawd9PI1HZ48YoGS3m23NlY3JTAaDpPdKJSi9Gi8yOQ9Ej4HbV6hLpChyrQ--HlfqUxBKAM6FCcdUMTFd303iP7oOCpgjEfY533M0WutTk5axkO_MV47hhIEU9r1qHIKP7g_wBXv7EO1Cj821r6nEUq7PvdPcl-oKqbz8CJuQofhbXLDSj3k8doLhT-sehi0eqGsaXgaVMnIx-7ktRC2L-nCrxDfSqsVw883fgL2Am7efwXmnz5YHOR3i--8xQwoH2bUdZMsN3ZBoKei7isviI4M8umchyJWpbrkHmFcz4e8q3QRaexyTUNWZJ3ZlFjoRxfBQMEeVn1mjRZiAzMqE44x-0OXsXp7XIuV9ZTTHwu6MhlcVQdp2N376M5q0fepHe-1o9Ax8mpHJ6oDy20JSqYUAo6e7666b7d6cTrqGUXV4MFNVkGJs7Q==&vjs=3&p=6&sk=&fvj=0']"
      ]
     },
     "execution_count": 6,
     "metadata": {},
     "output_type": "execute_result"
    }
   ],
   "source": [
    "get_url()"
   ]
  },
  {
   "cell_type": "code",
   "execution_count": 7,
   "metadata": {
    "collapsed": false
   },
   "outputs": [
    {
     "name": "stdout",
     "output_type": "stream",
     "text": [
      "79\n"
     ]
    }
   ],
   "source": [
    "print len(links)"
   ]
  },
  {
   "cell_type": "code",
   "execution_count": null,
   "metadata": {
    "collapsed": true
   },
   "outputs": [],
   "source": []
  }
 ],
 "metadata": {
  "kernelspec": {
   "display_name": "Python 2",
   "language": "python",
   "name": "python2"
  },
  "language_info": {
   "codemirror_mode": {
    "name": "ipython",
    "version": 2
   },
   "file_extension": ".py",
   "mimetype": "text/x-python",
   "name": "python",
   "nbconvert_exporter": "python",
   "pygments_lexer": "ipython2",
   "version": "2.7.13"
  }
 },
 "nbformat": 4,
 "nbformat_minor": 2
}
