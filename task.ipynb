{
 "cells": [
  {
   "cell_type": "code",
   "execution_count": 5,
   "metadata": {
    "collapsed": true
   },
   "outputs": [],
   "source": [
    "import requests\n",
    "from urllib import urlencode # This module provides a high-level interface for fetching data across the World Wide Web\n",
    "from bs4 import BeautifulSoup\n",
    "import re\n",
    "import numpy as np\n",
    "from time import sleep\n",
    "from nltk.tokenize import sent_tokenize, word_tokenize\n",
    "\n",
    "links=[]\n",
    "\n",
    "def get_url():\n",
    "    \n",
    "    \"\"\"Get the main searching page url\"\"\"\n",
    "    base = 'https://www.indeed.com/jobs?'\n",
    "    q = 'data scientist'\n",
    "\n",
    "    for i in np.linspace(10, 50, 5, dtype= 'int'):\n",
    "        page = i\n",
    "        url = base + urlencode({'q':q}) + '&' + urlencode({'start':page})\n",
    "        print url\n",
    "        \n",
    "        sleep(10) # added delay to ensure indeed server does not reject url requests\n",
    "        \n",
    "        \"\"\"Scraping job title href links from the main searched page \"\"\"\n",
    "        try:\n",
    "            r = requests.get(url)\n",
    "        except requests.exceptions.ConnectionError: # solves for indeed server rejecting url requests\n",
    "            r.status_code = \"Connection refused\"\n",
    "            \n",
    "        soup =  BeautifulSoup(r.text, 'html.parser') # parse into html\n",
    "        results = soup.find_all('a', attrs={'data-tn-element':'jobTitle'})\n",
    "\n",
    "        base_2 = 'https://www.indeed.com'\n",
    "\n",
    "        for i in results:\n",
    "            links.append(base_2 + i['href'])\n",
    "\n",
    "    return links"
   ]
  },
  {
   "cell_type": "code",
   "execution_count": null,
   "metadata": {
    "collapsed": false
   },
   "outputs": [
    {
     "name": "stdout",
     "output_type": "stream",
     "text": [
      "https://www.indeed.com/jobs?q=data+scientist&start=10\n",
      "https://www.indeed.com/jobs?q=data+scientist&start=20\n",
      "https://www.indeed.com/jobs?q=data+scientist&start=30\n",
      "https://www.indeed.com/jobs?q=data+scientist&start=40\n",
      "https://www.indeed.com/jobs?q=data+scientist&start=50\n"
     ]
    }
   ],
   "source": [
    "get_url()"
   ]
  },
  {
   "cell_type": "code",
   "execution_count": 3,
   "metadata": {
    "collapsed": false
   },
   "outputs": [
    {
     "name": "stdout",
     "output_type": "stream",
     "text": [
      "80\n"
     ]
    }
   ],
   "source": [
    "print len(links)"
   ]
  },
  {
   "cell_type": "code",
   "execution_count": null,
   "metadata": {
    "collapsed": true
   },
   "outputs": [],
   "source": []
  }
 ],
 "metadata": {
  "kernelspec": {
   "display_name": "Python 2",
   "language": "python",
   "name": "python2"
  },
  "language_info": {
   "codemirror_mode": {
    "name": "ipython",
    "version": 2
   },
   "file_extension": ".py",
   "mimetype": "text/x-python",
   "name": "python",
   "nbconvert_exporter": "python",
   "pygments_lexer": "ipython2",
   "version": "2.7.13"
  }
 },
 "nbformat": 4,
 "nbformat_minor": 2
}
