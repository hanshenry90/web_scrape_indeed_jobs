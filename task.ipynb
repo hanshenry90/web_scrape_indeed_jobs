{
 "cells": [
  {
   "cell_type": "code",
   "execution_count": 2,
   "metadata": {
    "collapsed": true
   },
   "outputs": [],
   "source": [
    "import requests\n",
    "from urllib import urlencode # This module provides a high-level interface for fetching data across the World Wide Web\n",
    "from bs4 import BeautifulSoup\n",
    "import re\n",
    "import numpy as np\n",
    "from time import sleep\n",
    "from nltk.tokenize import sent_tokenize, word_tokenize\n",
    "\n",
    "links=[]\n",
    "\n",
    "def get_url():\n",
    "    \n",
    "    \"\"\"Get the main searching page url\"\"\"\n",
    "    base = 'https://www.indeed.com/jobs?'\n",
    "    q = 'data scientist'\n",
    "\n",
    "    for i in np.linspace(10, 50, 5, dtype= 'int'):\n",
    "        page = i\n",
    "        url = base + urlencode({'q':q}) + '&' + urlencode({'start':page})\n",
    "        print url\n",
    "        \n",
    "        sleep(10) # added delay to ensure indeed server does not reject url requests\n",
    "        \n",
    "        \"\"\"Scraping job title href links from the main searched page \"\"\"\n",
    "        try:\n",
    "            r = requests.get(url)\n",
    "        except requests.exceptions.ConnectionError: # solves for indeed server rejecting url requests\n",
    "            r.status_code = \"Connection refused\"\n",
    "            \n",
    "        soup =  BeautifulSoup(r.text, 'html.parser') # parse into html\n",
    "        results = soup.find_all('a', attrs={'data-tn-element':'jobTitle'})\n",
    "\n",
    "        base_2 = 'https://www.indeed.com'\n",
    "\n",
    "        for i in results:\n",
    "            links.append(base_2 + i['href'])\n",
    "\n",
    "    return links"
   ]
  },
  {
   "cell_type": "code",
   "execution_count": 2,
   "metadata": {
    "collapsed": false
   },
   "outputs": [
    {
     "name": "stdout",
     "output_type": "stream",
     "text": [
      "https://www.indeed.com/jobs?q=data+scientist&start=10\n",
      "https://www.indeed.com/jobs?q=data+scientist&start=20\n",
      "https://www.indeed.com/jobs?q=data+scientist&start=30\n",
      "https://www.indeed.com/jobs?q=data+scientist&start=40\n",
      "https://www.indeed.com/jobs?q=data+scientist&start=50\n"
     ]
    }
   ],
   "source": [
    "x = get_url()"
   ]
  },
  {
   "cell_type": "code",
   "execution_count": 3,
   "metadata": {
    "collapsed": false
   },
   "outputs": [
    {
     "name": "stdout",
     "output_type": "stream",
     "text": [
      "79\n"
     ]
    }
   ],
   "source": [
    "print len(links)"
   ]
  },
  {
   "cell_type": "code",
   "execution_count": 4,
   "metadata": {
    "collapsed": false
   },
   "outputs": [
    {
     "data": {
      "text/plain": [
       "[u'https://www.indeed.com/pagead/clk?mo=r&ad=-6NYlbfkN0DhVAxkc_TxySVbUOs6bxWYWOfhmDTNcVTjFFBAY1FXZ_jbp8Q_DSbxEHI3oKBhlFywPKy8iEN-gkTge5qzwp-X1Msw3NaqMy6FE2IpLrIglm_1vdavGvJTAwL6o3DOLvH9z39-1awJOp8TiXx5b203FlOG8ulbBPvomBZSXUAO1WiKSgFQgN3g-dE-ShHVkK5F2gEmN2q8IzcTsNH-V5cLCM18LW9HR46Kh651xByHRR3_kII25TGNKXxJI7HW59DcEaIbbqB_5TzuLkaUT3raWK-rl19z1zzBX2ewmjVmghmvraHAINE1lYrg7985RFkp1h34--wBkTBZr1R4IZsxuZiDCYG0Rwi9EVp2iOgFTFq4Sj5h22Ptu3qUV_S_4SM9uFUBlE37mEt_53kXwwhO1iMHYwwPlV-0WEHthAM4KRIeF6chM4h6Dg_COY-NsR0=&vjs=3&p=1&sk=&fvj=0',\n",
       " u'https://www.indeed.com/pagead/clk?mo=r&ad=-6NYlbfkN0AMJeVuk4ECd5K_1LfpdW7JxefdFJh_RJqhU5XMhpZ8EfxDLCxSSPXlPWaXB-ucFdSStkipA3z6gDsg5rtwTRhhksiVki51wYLTiV4jgfZrYuN5dPa3-ovFYZ_9udK7GXShP-4m9E0bULk9lar3983amj_0tBUF2gfNTovUPfRoaFIojB-UjqRWoHYOCPSM5ZXIq3BPqeYv8jO-2mhB5lllYuwpxm8gqt0Ld1lTda0wS5FqE-D_LrD_dv3ZVZc12TU3Xyl3ZDKjnFO0Tl6GPRLD09gzAw811YhhJFOdB0bsPVdAeqAt8MU2younbyNxZYdO2M7Gvz5lrOza8qhUzGrQYBdqqFHdw8Z20q-hjVqJQ0hLcMuzHR-VgDBZGMlNOlrsNmx6T5w6i8Fe55baDSLVAD0uyb81D74ct66UvPS9cBY8KzbJBQPMYfZQq_wB3iU7d3o-S8vG2Uc6rwRH9hY4vxzENt0Nqikvlf3RNlIjnVN0lWGSET7M0h5l8ResLQA8ZJ7hsZUqMx_cw5pA9omjze0eshmVgZwX9-w0j-QLtqxzXu3baDvak8lVOVcV0kRv6WjyNURsMZc4-c4K-kR1ZYL4UvlrRfK17Gdt8CCAFSx_vHwXmITS&vjs=3&p=2&sk=&fvj=0',\n",
       " u'https://www.indeed.com/pagead/clk?mo=r&ad=-6NYlbfkN0AMJeVuk4ECd5K_1LfpdW7JxefdFJh_RJqhU5XMhpZ8EfxDLCxSSPXlPWaXB-ucFdQ0k4SXNq2wM2BfIscOVjXgBGhmiBv8G6BL2RCKbfjTrAt2Gdt6bQwierE34ZQp6StocDklvzqulUMZ4n-Bunibr7_mWHB76wcucz_PE4DHce5hobXdHdE1xBfxEecdgDSny0l4IGb5PpBl6m4PlggDtDnu9xyEeU9AOhUZEhfTU8_X-qIgYr7mxzNrvX8AD8-sSrsBVwB1hIxA1AfNaZGRRr6l6EiLTBANOClzezU-e6UmRL07M3Pw7Of_25NkC3V4NEjIhzcb2bEZ1fys7afGdP1zBnYHz0yO2Z2PTPo3vZrGua7-V7ebPV_H-ViaAbvxi3FghT2435PpL9ZbcPHDPaXLTW5IyS1Ay9sxfcR2XJH_T4QYmaBU2QtFOzdiF9C2y7LJ6Fb2klXLS5Y8t1LcHHHY9Dpgr00GJpbhqWPFYU3FX-BbtdnGkCa9XyCcHIMxy1FkY6ClkaEFJ_482yMm4ompw4TRkLYA8RyYmuK1VwH8TYyepQglgYsrYoUm9rfSfgADVS46YC7svGalRySixmr6yzwDdE3PlQB27vATbDkSettiAKA_&vjs=3&p=3&sk=&fvj=0',\n",
       " u'https://www.indeed.com/pagead/clk?mo=r&ad=-6NYlbfkN0AMJeVuk4ECd5K_1LfpdW7JxefdFJh_RJqhU5XMhpZ8EfxDLCxSSPXlPWaXB-ucFdR2wXZnGOumXYiUc6t9K4EbrJ7fvFmAN6KtszHkDE_XU4KfO_dqr3NHgXZRQNqQwrGUr7URcMVqA1D5duERgUIeDZqfdMMTTAyoggoFcpEEML93DSGwTUd6lhLok_1BGzNJlnPY-nNQJwmIjPmGZgbDaxBfzpJ7HIMMdbAOnLbqbqMNytOthAg-PwJKh807U57peHsvMGOlw_oS0tPSp7_E2jOU6UkJcH83dlwQf-MCb9avOP4c0Cr9o59M4uo0zDxyr38EfXy4frFnFPD2g8y8Dig9PmUYSH6QEwLGehFH2PThf5YS5adQ6EFXRhv3AJ_8HBYnOEC2orM2r940Pm1duP7R8SsoCRa1gMo5mcIdzSqkUgROsbLn4C6WoNpWnAfZFxUSsHZXRdh5CAabBKA1Hy18I52AiR0Nrcq99DOO6r1OwvrKxGaGomH4MwPTPfMZ3k9SwLInS2CAf6Rd-pXVhR8ps6Fx-c47XaFyX5edegCt1k-jD05aryh01eeuXaKj61kJt9enEnrIkg21R60DITGJzDdfMZ7GXSQOssYaLFHyUBW1r2L-&vjs=3&p=4&sk=&fvj=0',\n",
       " u'https://www.indeed.com/rc/clk?jk=1113b60dfdbccad8&fccid=fe2d21eef233e94a&vjs=3']"
      ]
     },
     "execution_count": 4,
     "metadata": {},
     "output_type": "execute_result"
    }
   ],
   "source": [
    "x[:5]"
   ]
  },
  {
   "cell_type": "code",
   "execution_count": 5,
   "metadata": {
    "collapsed": true
   },
   "outputs": [],
   "source": [
    "\"\"\"Scrape keywords of each job posting page and store them in a list\"\"\"\n",
    "\n",
    "import itertools\n",
    "from nltk.stem import WordNetLemmatizer\n",
    "import pandas as pd\n",
    "\n",
    "lem = WordNetLemmatizer()\n",
    "\n",
    "list_strings=[]\n",
    "word=[]\n",
    "words=[]\n",
    "words_2=[]\n",
    "words_3=[]\n",
    "lem_words=[]\n",
    "\n",
    "def get_keywords(link):\n",
    "    \n",
    "    for url in link:\n",
    "        r = requests.get(url)\n",
    "        soup = BeautifulSoup(r.text, 'html.parser')\n",
    "#         print soup.find('a', attrs={'data-tn-element':'jobTitle'}).text\n",
    "        result = soup.find_all('ul') # get a list of bullet points with tags        \n",
    "         \n",
    "        for i in result: # REMOVE all tags: get a list of bullet points as strings\n",
    "            for j in i.find_all('li'):\n",
    "                list_strings.append(j.text)                \n",
    "        \n",
    "        for i in list_strings: # tokenize strings into individual words\n",
    "            word.append(word_tokenize(i))\n",
    "            \n",
    "        words = list(itertools.chain.from_iterable(word)) # join all lists of tokenized words\n",
    "        \n",
    "        pattern = re.compile(r'[^a-zA-Z+]') # clean up words, REMOVE all that's not a word\n",
    "\n",
    "        for i in words:\n",
    "            words_2.append(pattern.sub(r'', i))        \n",
    "        words_3 = filter(None, words_2)        \n",
    "        \n",
    "    for i,j in enumerate(words_3):\n",
    "        k = lem.lemmatize(j, pos='v')\n",
    "        k = k.lower()\n",
    "        lem_words.append(k.decode('unicode_escape').encode('ascii', 'ignore'))\n",
    "    \n",
    "#     df = pd.DataFrame(lem_words)\n",
    "#     df.to_csv('skills.csv') # save cleaned up words into csv file\n",
    "\n",
    "    return lem_words"
   ]
  },
  {
   "cell_type": "code",
   "execution_count": 6,
   "metadata": {
    "collapsed": false
   },
   "outputs": [],
   "source": [
    "y = get_keywords(links)"
   ]
  },
  {
   "cell_type": "code",
   "execution_count": 7,
   "metadata": {
    "collapsed": false
   },
   "outputs": [
    {
     "data": {
      "text/plain": [
       "14778792"
      ]
     },
     "execution_count": 7,
     "metadata": {},
     "output_type": "execute_result"
    }
   ],
   "source": [
    "len(lem_words)"
   ]
  },
  {
   "cell_type": "code",
   "execution_count": 8,
   "metadata": {
    "collapsed": false
   },
   "outputs": [
    {
     "data": {
      "text/plain": [
       "['the',\n",
       " 'leader',\n",
       " 'would',\n",
       " 'have',\n",
       " 'to',\n",
       " 'strike',\n",
       " 'a',\n",
       " 'balance',\n",
       " 'between',\n",
       " 'be',\n",
       " 'able',\n",
       " 'to',\n",
       " 'guide',\n",
       " 'and',\n",
       " 'influence',\n",
       " 'the',\n",
       " 'think',\n",
       " 'and',\n",
       " 'vision',\n",
       " 'of',\n",
       " 'the',\n",
       " 'overall',\n",
       " 'team',\n",
       " 'while',\n",
       " 'at',\n",
       " 'the',\n",
       " 'same',\n",
       " 'time',\n",
       " 'be',\n",
       " 'extremely',\n",
       " 'comfortable',\n",
       " 'do',\n",
       " 'actual',\n",
       " 'handson',\n",
       " 'analyse',\n",
       " 'use',\n",
       " 'tool',\n",
       " 'package',\n",
       " 'such',\n",
       " 'as',\n",
       " 'sql',\n",
       " 'r',\n",
       " 'python',\n",
       " 'tableau',\n",
       " 'etc',\n",
       " 'this',\n",
       " 'leader',\n",
       " 'need',\n",
       " 'to',\n",
       " 'possess']"
      ]
     },
     "execution_count": 8,
     "metadata": {},
     "output_type": "execute_result"
    }
   ],
   "source": [
    "lem_words[:50]"
   ]
  },
  {
   "cell_type": "code",
   "execution_count": 9,
   "metadata": {
    "collapsed": true
   },
   "outputs": [],
   "source": [
    "\"\"\"Update frequency of each skills and store them in a dictionary\"\"\"\n",
    "\n",
    "key_dict = {'api':0, 'sql':0, 'excel':0, 'r':0, 'python':0, 'tableau':0, 'sas':0, 'spss':0, 'hadoop':0, 'java':0, 'javascript':0, 'matlab':0, 'c++':0, 'mysql':0, 'ruby':0, 'django':0, 'nlp':0, 'spark':0, 'hive':0, \n",
    "           'nosql':0, 'scala':0}\n",
    "\n",
    "def skills(words):\n",
    "     \n",
    "    for i in words:\n",
    "        for j,k in key_dict.items():\n",
    "            if i == j:\n",
    "                key_dict[j] +=1\n",
    "                \n",
    "    return key_dict"
   ]
  },
  {
   "cell_type": "code",
   "execution_count": 10,
   "metadata": {
    "collapsed": false
   },
   "outputs": [
    {
     "data": {
      "text/plain": [
       "{'api': 812,\n",
       " 'c++': 5564,\n",
       " 'django': 0,\n",
       " 'excel': 2775,\n",
       " 'hadoop': 50363,\n",
       " 'hive': 11357,\n",
       " 'java': 23130,\n",
       " 'javascript': 0,\n",
       " 'matlab': 1485,\n",
       " 'mysql': 731,\n",
       " 'nlp': 13179,\n",
       " 'nosql': 12192,\n",
       " 'python': 74588,\n",
       " 'r': 94634,\n",
       " 'ruby': 0,\n",
       " 'sas': 8753,\n",
       " 'scala': 16353,\n",
       " 'spark': 41566,\n",
       " 'spss': 45,\n",
       " 'sql': 51281,\n",
       " 'tableau': 30821}"
      ]
     },
     "execution_count": 10,
     "metadata": {},
     "output_type": "execute_result"
    }
   ],
   "source": [
    "skills(lem_words)"
   ]
  },
  {
   "cell_type": "code",
   "execution_count": 11,
   "metadata": {
    "collapsed": true
   },
   "outputs": [],
   "source": [
    "\"\"\"Plot the dictionary of the skills in order of occurences\"\"\"\n",
    "\n",
    "import matplotlib.pyplot as plt\n",
    "%matplotlib inline\n",
    "\n",
    "def bar(dictionary):\n",
    "    y = sorted(key_dict.items(), key=lambda x: x[1], reverse=True)\n",
    "    keys=[]\n",
    "    values=[]\n",
    "    for i,j in y:\n",
    "        keys.append(i)\n",
    "        values.append(j)\n",
    "        \n",
    "    plt.bar(range(len(keys)), values, tick_label=keys)\n",
    "    \n",
    "    return"
   ]
  },
  {
   "cell_type": "code",
   "execution_count": 12,
   "metadata": {
    "collapsed": false
   },
   "outputs": [
    {
     "data": {
      "image/png": "[encoded data removed]",
      "text/plain": [
       "<matplotlib.figure.Figure at 0x165de1bd0>"
      ]
     },
     "metadata": {},
     "output_type": "display_data"
    }
   ],
   "source": [
    "bar(key_dict)"
   ]
  },
  {
   "cell_type": "code",
   "execution_count": null,
   "metadata": {
    "collapsed": true
   },
   "outputs": [],
   "source": []
  }
 ],
 "metadata": {
  "kernelspec": {
   "display_name": "Python 2",
   "language": "python",
   "name": "python2"
  },
  "language_info": {
   "codemirror_mode": {
    "name": "ipython",
    "version": 2
   },
   "file_extension": ".py",
   "mimetype": "text/x-python",
   "name": "python",
   "nbconvert_exporter": "python",
   "pygments_lexer": "ipython2",
   "version": "2.7.13"
  }
 },
 "nbformat": 4,
 "nbformat_minor": 2
}
