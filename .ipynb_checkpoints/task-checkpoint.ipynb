{
 "cells": [
  {
   "cell_type": "code",
   "execution_count": 1,
   "metadata": {
    "collapsed": true
   },
   "outputs": [],
   "source": [
    "import requests\n",
    "from urllib import urlencode # This module provides a high-level interface for fetching data across the World Wide Web\n",
    "from bs4 import BeautifulSoup\n",
    "import re\n",
    "import numpy as np\n",
    "from time import sleep\n",
    "from nltk.tokenize import sent_tokenize, word_tokenize\n",
    "\n",
    "links=[]\n",
    "\n",
    "def get_url():\n",
    "    \n",
    "    \"\"\"Get the main searching page url\"\"\"\n",
    "    base = 'https://www.indeed.com/jobs?'\n",
    "    q = 'data scientist'\n",
    "\n",
    "    for i in np.linspace(10, 50, 5, dtype= 'int'):\n",
    "        page = i\n",
    "        url = base + urlencode({'q':q}) + '&' + urlencode({'start':page})\n",
    "        print url\n",
    "        \n",
    "#         sleep(10) # added delay to ensure indeed server does not reject url requests\n",
    "        \n",
    "        \"\"\"Scraping job title href links from the main searched page \"\"\"\n",
    "        try:\n",
    "            r = requests.get(url)\n",
    "        except requests.exceptions.ConnectionError: # solves for indeed server rejecting url requests\n",
    "            r.status_code = \"Connection refused\"\n",
    "            \n",
    "        soup =  BeautifulSoup(r.text, 'html.parser') # parse into html\n",
    "        results = soup.find_all('a', attrs={'data-tn-element':'jobTitle'})\n",
    "\n",
    "        base_2 = 'https://www.indeed.com'\n",
    "\n",
    "        for i in results:\n",
    "            links.append(base_2 + i['href'])\n",
    "\n",
    "    return links"
   ]
  },
  {
   "cell_type": "code",
   "execution_count": 2,
   "metadata": {
    "collapsed": false
   },
   "outputs": [
    {
     "name": "stdout",
     "output_type": "stream",
     "text": [
      "https://www.indeed.com/jobs?q=data+scientist&start=10\n",
      "https://www.indeed.com/jobs?q=data+scientist&start=20\n",
      "https://www.indeed.com/jobs?q=data+scientist&start=30\n",
      "https://www.indeed.com/jobs?q=data+scientist&start=40\n",
      "https://www.indeed.com/jobs?q=data+scientist&start=50\n"
     ]
    },
    {
     "data": {
      "text/plain": [
       "[u'https://www.indeed.com/pagead/clk?mo=r&ad=-6NYlbfkN0CsfdziGcgPFzRLQEEL-dAjxA4MCuzdnvsSgC-lFWMKhu5WHIXvdQ5IggPquQ7fBsAKNQ4xgR8rxa99dhbyl0E6xQ_x1G0Rupy-qkVd2GrDEwa_jbHLARm46YBpjWjOQXtjg0EYST_g1hrN8eQqgbkzGkKmTLlaHL4X3j_ugWSKMXFyAYkWLiscUZNEMy0lcDLJLqyMpT7bolWBRwbF_8cpRmVj3Yv9rL7ZRHSLvQcVYh9Yw8-5d6HeJLS0FqVtv8EtTXBVAm5SQmXexIV-8MSutJbfYGiT-0aRl7CujSbHj_L-A1lW_Sr4-NbOBngQq3ghpXFrfdqmR0TR3bOuasWvsfLHS2-gB9mleOVbcizaa-OpH0t98xUCxeXOFavzDJ0F7YdGg2WeqjYpIsoA9OaIcmkbBnTvubkrkL1GAr9W0Q==&vjs=3&p=1&sk=&fvj=1',\n",
       " u'https://www.indeed.com/pagead/clk?mo=r&ad=-6NYlbfkN0Cfk0snhZndNwX7uXgC05fLlvJSb7RrLTWxBCJZfaaW5v_6dOj1owJ7abUPCsjpkiJdebg48ZVqvZ7PovV5pm3T6Yw2Mg5SuBW10SnTCot8s7R5Mm_AbF7ZeWa50XqWoJ1PA0c_oYyEoNaR-DrY27KO5KnBbKRvxgxGUnCcI0ccWIuWPYXrKSZVsJpPWx3MgKCEe1bM7iYunEmIs4BE1AYIKrTF4Ti07FLcXhcU5QIYTG8ZCOEtfOy0x690rg5uFfWTauJXgpl8fWufHvTtckHhDQN5baEn3DdKdAb1xrVnf48ceAyye1PCUxdP1OA5z1AfXPbu7_rWttmj4FjI22shVsHbZRys_c4xDN5bSX5C4fl4BKXiIKfuz7qWJ41aAwa-AsGpZ52eUgw8RWPDL7bOC2zaX0CN9ORLHi4mcH358w==&vjs=3&p=2&sk=&fvj=0',\n",
       " u'https://www.indeed.com/pagead/clk?mo=r&ad=-6NYlbfkN0D6N_YvCEOtyrASauy5EjKuXlD4b0DhlGZ_7VkOh0nBFnzUO0Ba-o-77q0n_EiIkpdHE0NYZT342JB8BUaCeAwlNrX_5NH7Lb5oPBh6Zb_RybELKM3xrmqEd63Nhxwz6Me2BG4dGMHmNCLrKjGkIZe89Il2TnpD3_9nF4zFLs-zR28PpqPFAdUn3aFuTOJjB0hsEKN-KYYXrAYMQ17Hk8LNuPA04F0loOqXE9v40vPNkSiF7nctuyfRSMJ1rDadAbCR-FaePee1LEcof5rIIdF3iwMRT0sYLiTV_j7dBmVQlWqDzlGAZ3oAZcfs1R6zcuq4VaU2L1kj3fl5j0OLckhla9FZqgA7rrz26i-2byubbuyYYdlRBr2MdI-LxCAHXHPUqqSRCANSDhl4iJAQ57Gp-uM9l8EA_eL-glEIyZbOI6YSPvMtPIc7YDX9Opjkdhe1cvYkLU6G_yqzDFo8VdWH-5aJUPgEXXFD5y98cd13Qn8NZYNpJEmMhcRgSJKUMsgi9MDMviojY5va1aXcDM47Y1f0_gPRp0Q=&vjs=3&p=3&sk=&fvj=0',\n",
       " u'https://www.indeed.com/pagead/clk?mo=r&ad=-6NYlbfkN0BgZHUyKAHIVKcSyLGwR98WA5flU5dhrEpfczjGUWryMhFlsbhV70979QUlO4of1hVMRXnAUjupIEdE0e_hbI9qibn7oue2EqiYYvnB-zl-L3EzF4c_7Go6quprEzDj4oZspe8ghZ_QcEzUYzZegSkt5R2equ1Mln_3EXcY-sUYTovfqQgbS6mEf3FBfwsrsFI_EyGGysM_Avofy1vvFN5ZC7t8Yy50GRi7rY8q9622_onmaIA2MPMisF-0OPOvOfwlUpZqj8xXssm-UEJhIlDrZlhLR2BO3bGslSvNUTcQehkKiCBoAlSumtp0OgO_EtvErSE3Ak-K1v5TdJlnwc7m2gqkYQUXsyh9gywbO9cVuNA_zqLdFxozEBOPy5wH0ACoEIc0pkD8okFi6WPmzAO3Yhiar9UuNRJcLLn9Bs4BNg==&vjs=3&p=4&sk=&fvj=1',\n",
       " u'https://www.indeed.com/rc/clk?jk=e2452fcef68a384e&fccid=1f773401da480d04&vjs=3',\n",
       " u'https://www.indeed.com/company/CareMessage/jobs/Data-Scientist-15c6c0e862e8609b?fccid=447e72909a003ac3&vjs=3',\n",
       " u'https://www.indeed.com/rc/clk?jk=045c75c90fef739d&fccid=c46d0116f6e69eae&vjs=3',\n",
       " u'https://www.indeed.com/rc/clk?jk=2660758f3e6de4e6&fccid=c1099851e9794854&vjs=3',\n",
       " u'https://www.indeed.com/rc/clk?jk=6b7c10640f438c03&fccid=0c39fb2c91742dcf&vjs=3',\n",
       " u'https://www.indeed.com/rc/clk?jk=f4a29c11a7f53c79&fccid=617d7f961cfcf54a&vjs=3',\n",
       " u'https://www.indeed.com/rc/clk?jk=ebcefaa77034f5f1&fccid=9e03deda32480ae5&vjs=3',\n",
       " u'https://www.indeed.com/rc/clk?jk=046a57c04fb4b071&fccid=734cb5a01ee60f80&vjs=3',\n",
       " u'https://www.indeed.com/company/Ettain-Group/jobs/Data-Scientist-cca8b74ab2405899?fccid=83521c7ddcce62b1&vjs=3',\n",
       " u'https://www.indeed.com/rc/clk?jk=ff47e6d35acb8ad6&fccid=da3c7fed78dd1607&vjs=3',\n",
       " u'https://www.indeed.com/pagead/clk?mo=r&ad=-6NYlbfkN0CiRNM7CVr8YueLFKlzwbFWI0o7IjV438l4sVrvKZ0fliTfoNv_ONF5FvJKNaJe41M7uyHW3kQOx2mPLbyfHJrFibS8F_msQu_MlWjic_0TIT8kbijLi-SyF4s7ZGtapxUV77CxdS_5T7PKfmo-u99u__LN_WlVb1vlXMxsg-mCduEfEEmwG6DGs4BMjrS37MpeabIQSlYmQb8U0l0YZhz8sMZDyiDYQXRy0fSdv-dkkJ5LtrBv5Nvvhln5TF_QgOINfjPH_IQWx-LTdwuaVHZmmk39mcFOQBYgUDA47kxhpIwYk87P_GzIOSUX40K7ZlGTR_E--7CR7ceqDLkmqs8JkE5VhfTRUbxhj6FdFxh59Stq4flf-vMXFfe8YmULvl000ABbrI4IlC-HlmGVURIGIyUeBJiYFrjM3BCmv7kYYEQogO0U7MzhrVTHTMzjJusk79tnV6uOfLs18by76y73Hz08dBpCN_gH8NkveJR0ELyvwiSCabJ29fKgc1izevDDdVtshMBepA==&vjs=3&p=5&sk=&fvj=0',\n",
       " u'https://www.indeed.com/pagead/clk?mo=r&ad=-6NYlbfkN0AMJeVuk4ECd5K_1LfpdW7JxefdFJh_RJqhU5XMhpZ8EfxDLCxSSPXlPWaXB-ucFdQ0k4SXNq2wM2BfIscOVjXgBGhmiBv8G6BL2RCKbfjTrAt2Gdt6bQwierE34ZQp6StocDklvzqulTZ59PEuo2UNWy5kzgq3TYxoWrsnehC5P2qmLdRkxASv_sfC5GTH6Hhoik_axl5kNS02Zjastae2smXoIYvMvgVktKFiSYhI7Nu49zxQSpWngxJLrL4YjVtZ0itoO0ckSYdrgOoZxBJyQ0sEW6MW2zhSZfSSb9ZgYjOavK_50d0jwnbttnlyCBg7xYnccTdAqLStNCKbtMywx-83kNXIg7XKgQxeZcF9iRj_3M6YmALhV2EpPO2Nnb2izGrFpLHNwBMHVAhatgkQpBgzTaHgebuOopmaEQIeCNvdxt818SMcYCsR4Sj-YOn-1Y748V3RZtOlerz_1uLcsPfdBpQ1YSVGFtRTPqOuU9gPzykkukncWJKGueCE1iQqTrI2EX_BXSguEgDYvPsxKbROuCDzKQcEKEYOiDeOKP65kSd51hwQJgh2UDo5PNmIKLFuvcKWhwuS3w7BMWygEM1e1HIacF6ecCHvPgXjFQ==&vjs=3&p=6&sk=&fvj=0',\n",
       " u'https://www.indeed.com/pagead/clk?mo=r&ad=-6NYlbfkN0Cfk0snhZndNwX7uXgC05fLlvJSb7RrLTWxBCJZfaaW5v_6dOj1owJ7abUPCsjpkiJdebg48ZVqvZ7PovV5pm3T6Yw2Mg5SuBW10SnTCot8s7R5Mm_AbF7ZeWa50XqWoJ1PA0c_oYyEoAhi8dZKzu_I94nqe4R9FRwanSoTx95veSDQ-ZWVkU8_ljDolaBRYnJZ6BIShYT3DWzqzONOiSKGgS1k8367cQZok4Fdd6VgnGuOTuetcdi_jeraCJZrGPgj6etz1yR8G5bM0QnMndW0npXv6h1jlOiFDO5ri4u0C27gj6Y-sanjCiuQpTAqazsUWHPYhUuEahj75HhcBgrT7_b1z9VW-2nuRYBea4x-K18nyIMHd3ftPtBhPQzePT1BfYN5-6lP9iBpSBwk7_SgaFO_troFda2eShqJKBR5qg==&vjs=3&p=1&sk=&fvj=0',\n",
       " u'https://www.indeed.com/pagead/clk?mo=r&ad=-6NYlbfkN0CiRNM7CVr8YueLFKlzwbFWI0o7IjV438l4sVrvKZ0fliTfoNv_ONF5FvJKNaJe41M7uyHW3kQOx2mPLbyfHJrFibS8F_msQu_MlWjic_0TIT8kbijLi-SyF4s7ZGtapxUV77CxdS_5T7PKfmo-u99uQEH1_hotMWCDPdTtqW3HaPlUoTh0LVAhC65kvX3cifxTCCf1zd5H74FBvjh1_C3Yp86-kdcYpSvpDZmLhgqVMhgS-TRPWi2hlZTu598kBZ3u_00Y40x-G3xZPmXvdTK0rk2VQevnvGR5NXo1e_YZe-epNGVDmYRF9hgziXDItZ8O7nZM6CHaM1mBvoSqwRGtdyc3WkpBoqdtfkQ44F5MYnQ9mmfQ_0kzgeQIuZQxktvg0elEXCDdQrfeTUykbj30VT7AvSEMqX749qBazLgSi8GtXrBOoWO52jbprN7rj0E5QFVg03U4_tvxeIXuIO7mn-Hr4U2zAwfCJJz4PAowqawprQHoPuopRcV3YoJlmetD8KmUXBxWyw==&vjs=3&p=2&sk=&fvj=0',\n",
       " u'https://www.indeed.com/pagead/clk?mo=r&ad=-6NYlbfkN0AMJeVuk4ECd5K_1LfpdW7JxefdFJh_RJqhU5XMhpZ8EfxDLCxSSPXlPWaXB-ucFdQ0k4SXNq2wM2BfIscOVjXgBGhmiBv8G6BL2RCKbfjTrAt2Gdt6bQwierE34ZQp6StocDklvzqulTZ59PEuo2UNFMMwd6WpZoA3Akmj6mwkjgrLhO6nRLeiB_Ib9G7dLkcpkL1o_DLw5c6omNGRXPUBn5boV49FQoS00cVdtMhVnhhutBrtqekKEHAPRu4czEUXjM_VI9wHKP6TDgGbdTE6GSS9clRA_e_NN-DVBfDRUJbU821niE93AtmLOvCgqcvQOGoW2mqnXd8MJMN6foJL67UTgwnsvkE8jMjxIP2MZFvIF85VndYxmwQ8NPvvzCURE9R2iJzO8yxz9r8i9ql8e-s7Oy94sid6yWK81jOwteQNY-BDezBRalV31QKeQtMSewPyQRvIo3IBYoMpl52lDN-z1D_7ohbx-6hSLNxH0IiULVQkuBQ48sUCAnBOI7lSOOtUKWEof4t31jHh0LHbHyD-tyJOWVyZAaU6ACcNOafcCXP_WbMfzI-a68bC3qKtDGM4mAsO3ULimYYuNJ7aSDeSKuUL5lggceMOgD0w4w==&vjs=3&p=3&sk=&fvj=0',\n",
       " u'https://www.indeed.com/rc/clk?jk=78bab3866d2dc360&fccid=8ebebfc7aefe4ce4&vjs=3',\n",
       " u'https://www.indeed.com/rc/clk?jk=1ec9dff28a8f4959&fccid=c1099851e9794854&vjs=3',\n",
       " u'https://www.indeed.com/rc/clk?jk=1113b60dfdbccad8&fccid=fe2d21eef233e94a&vjs=3',\n",
       " u'https://www.indeed.com/company/JES-Engineering-Services/jobs/Data-Scientist-b7be053fac88b3a5?fccid=b44edb18ba8998f2&vjs=3',\n",
       " u'https://www.indeed.com/rc/clk?jk=f6511713e308dc96&fccid=617d7f961cfcf54a&vjs=3',\n",
       " u'https://www.indeed.com/company/TruckIT/jobs/Data-Scientist-1574a00fdeee048f?fccid=f3df6aca7d0f79d2&vjs=3',\n",
       " u'https://www.indeed.com/company/Convergence-Consulting-Group/jobs/Data-Scientist-bf372f6981cfd2a4?fccid=4ee303a3fae88268&vjs=3',\n",
       " u'https://www.indeed.com/rc/clk?jk=6312579b753edd47&fccid=7325fb0c23edfd15&vjs=3',\n",
       " u'https://www.indeed.com/rc/clk?jk=8195df42612c90ba&fccid=71e6ca9fd4db82cf&vjs=3',\n",
       " u'https://www.indeed.com/rc/clk?jk=5cd0bd1215808589&fccid=a675a7038edf48c9&vjs=3',\n",
       " u'https://www.indeed.com/pagead/clk?mo=r&ad=-6NYlbfkN0BgZHUyKAHIVKcSyLGwR98WA5flU5dhrEpfczjGUWryMhFlsbhV70979QUlO4of1hVMRXnAUjupIEdE0e_hbI9qibn7oue2EqiYYvnB-zl-L3EzF4c_7Go6quprEzDj4oZspe8ghZ_QcEzUYzZegSkt5R2equ1Mln-nmYQ5iUp5ySLGxdnBeDJsnpzGYidyAOMIBuhVPmtjUlU6P4JfY-EK8GYKEZP4J43E8_6iL20DCbaFgY-ZpYeTSKFGHjgRa0Ne1eSqWukfwxW-o3-witSjAd60SeMmw8SOqCCVS87KlDqvqTYch7wOp5k7Nt0oIqErCL_vLCMGJfI4ZsQGE47xxmHtLIpEHHh6diN3N10N_B2GvCw9WqRfnUxctQSAan8KWC9wYWqPaR9yp3_dOiLyf4a6PsEbAIO8W0owBwovgA==&vjs=3&p=4&sk=&fvj=1',\n",
       " u'https://www.indeed.com/pagead/clk?mo=r&ad=-6NYlbfkN0D6N_YvCEOtyrASauy5EjKuXlD4b0DhlGZ_7VkOh0nBFnzUO0Ba-o-77q0n_EiIkpdHE0NYZT342JB8BUaCeAwlNrX_5NH7Lb5oPBh6Zb_RybELKM3xrmqEd63Nhxwz6Me2BG4dGMHmNCLrKjGkIZe8lvniCxIVLSdSRnMwkQRxx_ERsKAxMGP_Z2HRW21eq4ZJz-2glvaAfBz_kIrOSPpOgukZ6ZfSMeZu9THJc98mUQF6ayhlEgXdCYDVsdIz4jdpC3RUgZfxzjI6wZavRVqNJZAu-Q-7AZ46EV5euErAG8ulF4WEEbKS26g4ojmGYRfwKtlIQK62abo3zmCCTsbotf2wr5uVZeMuYf0AGt2_wFBh6smNPY7ulqvhAv5KmuL-VY6PJo5raIRrB14jAefNVDDYzBRAxl-eI0zwEABrMkmAPpbDQ0X-GtFZ7ONFK4VqcNH1-HdRpiEZWIv35iEReCKsnpPy3r3fsQoKf0SNvpoUFEkfUIxVZHBOIAvs2ulUZukmUrVvJql6medb40HVEOIMuTlNklg=&vjs=3&p=5&sk=&fvj=0',\n",
       " u'https://www.indeed.com/pagead/clk?mo=r&ad=-6NYlbfkN0CsfdziGcgPFzRLQEEL-dAjxA4MCuzdnvsSgC-lFWMKhu5WHIXvdQ5IggPquQ7fBsAKNQ4xgR8rxa99dhbyl0E6xQ_x1G0Rupy-qkVd2GrDEwa_jbHLARm46YBpjWjOQXtjg0EYST_g1hrN8eQqgbkzGkKmTLlaHL5YsmWJSdIgaUE6eYpdWozx3vtx4FNoUYSRoyc2JuB3sYvODe4HOfFnOl_33TOAUOAYJg4csdjFwbLEjjXDidEhOtoV146A3w6AHe7w2fscKFSomh6aNbpOo7H7-AJOLQ6-RyXVHE30GMIeh7iUtFr-nUTdkigeQiwtc3bbWqv_kx6yTYZMNtVu4F7sv8-gQKfzVNF47KXCPtZDZ2UpEdA4oU37YzOAawD5ME8s5zVORdSim3M6EjvtDNOLw4Q2VZMlr2JRJjdkDA==&vjs=3&p=6&sk=&fvj=1',\n",
       " u'https://www.indeed.com/pagead/clk?mo=r&ad=-6NYlbfkN0Cfk0snhZndNwX7uXgC05fLlvJSb7RrLTWxBCJZfaaW5v_6dOj1owJ7abUPCsjpkiJdebg48ZVqvZ7PovV5pm3T6Yw2Mg5SuBW10SnTCot8s7R5Mm_AbF7ZeWa50XqWoJ1PA0c_oYyEoBPmOhq-7_IMpryApUmrOCafbpXbl5xE-GM3eDKznUtUXD8z8v9Ido3f6BEfeQje6JSRAGUMuht_sxVZtNASk5bL6fSqfKqCa0iDLEStWXJPvuCEnLgvthiiNnn7fixFYWdT-DhHQYwO7KRgGHHXR4KjfpBSn1hfV9SYpInnf0F59HakQJvzucAkfxMbSlQtKE0T6fVdaoyFx8B7qx-xBYOy6SxaOgCrk9Z70i94AxQqf-swIYQ8ttaVT20Esd953S2A8tvlbMk0JD8w3Nr5xaHyQLoLoLEerg==&vjs=3&p=1&sk=&fvj=0',\n",
       " u'https://www.indeed.com/pagead/clk?mo=r&ad=-6NYlbfkN0D6N_YvCEOtyrASauy5EjKuXlD4b0DhlGZ_7VkOh0nBFnzUO0Ba-o-77q0n_EiIkpdHE0NYZT342JB8BUaCeAwlNrX_5NH7Lb5oPBh6Zb_RybELKM3xrmqEd63Nhxwz6Me2BG4dGMHmNCLrKjGkIZe8Ea5ns8n8ERRreF7t9EttUlK2PRbFwwtyJk87kwP_ZgosUNaT2fhX-mQ0QYniyvxKgkkciDxmDdWq1vzvf3axetMUV0gByZvYObWahNRV5jFXvC2Di0Wiv-mKYyICRzHgp2HbgwkwVwVsBzwrjfqwYEpzJ9D80-qjaHCCOvx0TeSpRphTKXlNYCq2gBbS1uCTYyf-eOTjGvsGxY3jit2n24vXP7I16yjn0zP1iiQNMOUdrz5sSwj9sF7mZy0vWghe-A_kXnDyqNmw0Qc5AByI1SUFtAmf0tPEENlfUw62QhWcM8rHSl2c2QzgDqoWoHe0pk88jrYcIfmjMOZkW9HVnAYA6V4zJ3LJ_CgMgdUX7rIN6YDTyDo74GGsZDnKBWNAkdhD-TWZwY4=&vjs=3&p=2&sk=&fvj=0',\n",
       " u'https://www.indeed.com/pagead/clk?mo=r&ad=-6NYlbfkN0AMJeVuk4ECd5K_1LfpdW7JxefdFJh_RJqhU5XMhpZ8EfxDLCxSSPXlPWaXB-ucFdQ0k4SXNq2wM2BfIscOVjXgBGhmiBv8G6BL2RCKbfjTrAt2Gdt6bQwierE34ZQp6StocDklvzqulTZ59PEuo2UNv3zT7SW4oNkZ_U2xmbmMFBSjF5SANqpP0VXyzOqFPl3XX-GUE8qd_QeqfjHfDeV-DTP_Oy54X8qiw7aUdjWECafM79Wi2xox1iA910Q2-cGGHBK1Dzp0nPGnNEhakZeF0t8DHpBIDAHQUHv2Fc-QzV1lgsYWmtXZBIloZOSl0RTmInz3QNBZWUDZOwYhABlYXNQAKBwPdStd_1OwWAxz41OE98_S2XwpwuwlfEXdDNKu9O8lByVz-gqJ-lsONZDA8UltjdqLznGWFtgXc-RCfw6vMvdXCb0lThdEhLNYPOOuwJNosn75r7fTyttOQFf95XxEz1OxMLoAwxVoUmv1XvxD0DjB7QGN8knONFXFQzqaH0I8BenPMo0kFXYGfmgH6VV1QxPzAZ5yI2Df4Kzksexv62YGpTozdbRQCaw7NCxldyQRTMvARkF_Oa7au5Sg-9WSR88AVhV0io0uuHpi2w==&vjs=3&p=3&sk=&fvj=0',\n",
       " u'https://www.indeed.com/company/TouchPal/jobs/Data-Scientist-631c7b096e6f52ca?fccid=abf88f6babcd4434&vjs=3',\n",
       " u'https://www.indeed.com/rc/clk?jk=5cd0bd1215808589&fccid=a675a7038edf48c9&vjs=3',\n",
       " u'https://www.indeed.com/company/Incept-Data-Solutions,-Inc/jobs/Statistician-659ed958a2d855f3?fccid=7aa88bd77c4e02c5&vjs=3',\n",
       " u'https://www.indeed.com/company/TekHiring.com/jobs/Data-Scientist-792b067b6941aeb8?fccid=b13a6aecd647c160&vjs=3',\n",
       " u'https://www.indeed.com/company/Futurekorp/jobs/Senior-Data-Scientist-bb515cb5b38aab9a?fccid=b84d50c41cc57b98&vjs=3',\n",
       " u'https://www.indeed.com/rc/clk?jk=36b20e2ddb47fceb&fccid=ae04332349a994b0&vjs=3',\n",
       " u'https://www.indeed.com/company/Arthur-Grand-Technologies-Inc/jobs/Data-Scientist-6ece6cb4c86333ba?fccid=115c0c3ffa0241fa&vjs=3',\n",
       " u'https://www.indeed.com/rc/clk?jk=ebcefaa77034f5f1&fccid=9e03deda32480ae5&vjs=3',\n",
       " u'https://www.indeed.com/rc/clk?jk=df6605542a062113&fccid=cd32200e1d7a3d24&vjs=3',\n",
       " u'https://www.indeed.com/rc/clk?jk=e18398cd05463fa1&fccid=da5d549eaca5bf0d&vjs=3',\n",
       " u'https://www.indeed.com/pagead/clk?mo=r&ad=-6NYlbfkN0BgZHUyKAHIVKcSyLGwR98WA5flU5dhrEpfczjGUWryMhFlsbhV70979QUlO4of1hVMRXnAUjupIEdE0e_hbI9qibn7oue2EqiYYvnB-zl-L3EzF4c_7Go6quprEzDj4oZspe8ghZ_QcEzUYzZegSkt5R2equ1Mln_zmGqRbTKXXUbohCQ-tRkyRHN9iZz50nFhQ6d6LM-PbkBQzftmzs7J2lf4B_-WmIrlw7E6bJRM0T0f_Sf1ZO5eXnzewgj_-ZUfUO_KzCRTru2vpUOqmyNtXNShtIwLnbNQaut4izxYUv-AjCrIxUX84F_R77Z_P6B5Na6GLYvUmaz9VMAD06ajnkgS_27-JHnPBYlnmttpaVaUuI88QRmuXuw6nqea554bof4BJSCSYH1tg6jTgkY2lu_8T_f9ARb3lBsOk9C1TQ==&vjs=3&p=4&sk=&fvj=1',\n",
       " u'https://www.indeed.com/pagead/clk?mo=r&ad=-6NYlbfkN0CiRNM7CVr8YueLFKlzwbFWI0o7IjV438l4sVrvKZ0fliTfoNv_ONF5FvJKNaJe41M7uyHW3kQOx2mPLbyfHJrFibS8F_msQu_MlWjic_0TIT8kbijLi-SyF4s7ZGtapxUV77CxdS_5T7PKfmo-u99u-pqjHpAx7II3MijdbY61NesX7YhVbTY7VpyRcwV7k8JOgOXLrDRtYtEytigy40DvnzBbzYs9jExpleJNJsSONYcDvgPlxRCM_wvvxq77plbc6pU9ABMfXuZ9vipZl5wzceK5wqu-KJtqFqUhPZku_UBJV7ipI1qifd14iICCsgMJRrGccGiEwpHrklQ5phChREjmvkVw8s2AoiT1dWyV5iDtxZI5LF3RnCy_jNPBk7FnPjTgAFgvAwySsYfYuwwFlbmXF8wfr3MgEV_OK8Rg2pmBWLBD5zF32MzW5K2xqBMBHM46m_3NrJHPkPWtc9U1h4hjSQu5NY2ZaP5fXZt6vISthj-0GqSDJXvUjx7VQE0TRy2Tw6-OfQ==&vjs=3&p=5&sk=&fvj=0',\n",
       " u'https://www.indeed.com/pagead/clk?mo=r&ad=-6NYlbfkN0CsfdziGcgPFzRLQEEL-dAjxA4MCuzdnvsSgC-lFWMKhu5WHIXvdQ5IggPquQ7fBsAKNQ4xgR8rxa99dhbyl0E6xQ_x1G0Rupy-qkVd2GrDEwa_jbHLARm46YBpjWjOQXtjg0EYST_g1hrN8eQqgbkzGkKmTLlaHL6VBq8-x0ZltWqhMTDwwFeM3wJNoQlj1wO-pjynHRCPCRQ0a3JD2QwEtw5toCv74fIzNSPzPfdVTdSx-EeaChRHqSewBa0pbPMn_Pqj0aOj2Os2yYow0p9ahh0JJRQi2CeF5dX1kSyOZSCCdGO81NoVqQVUWsbM6L3_7ilCx5UikKJ7iNiRMYXn6ZEMrFOVwYPsyBGN7f0zggB8riU4pHZ18tNlyS0m29X1s4FBWRpa1rDUNxVDG3W8FUMHyrqwkFgQeWp-6tOlBQ==&vjs=3&p=6&sk=&fvj=1',\n",
       " u'https://www.indeed.com/pagead/clk?mo=r&ad=-6NYlbfkN0CiRNM7CVr8YueLFKlzwbFWI0o7IjV438l4sVrvKZ0fliTfoNv_ONF5FvJKNaJe41M7uyHW3kQOx2mPLbyfHJrFibS8F_msQu_MlWjic_0TIT8kbijLi-SyF4s7ZGtapxUV77CxdS_5T7PKfmo-u99uGf8k_03O2ENYInF3RJPPK5fqpiaIaXjlYtqQXAQPP1sLO3mmPRWZJvQxreIP5UIunhGGq66BJn_s1Z_WU1qKE-nBiVH_byOpPOhVS3yBSF6GHunwuCvrifOITNut9nDdHCOt-AMdQE-FAv5nLNQgdYSSnvG2YJYnsjPkcZkfMwSOdoE3BXfxM37U9IAH9GI3Xxaipyyv1iNwkwG3bR9oxSTq_el5RJlWxswvKGSFXfD3fc4NI98_wlwqVDHFf3FQBKLer8ec_VClYQvIL9BPbEXf2wSsL6rpfdZwKerHilHCcFP2ftbkN06z7Y11MjJPTfsc5UWdd_09Gisom-FMXElH0LSH7ems2aHCBJ-v2Unp72DpycdkiQ==&vjs=3&p=1&sk=&fvj=0',\n",
       " u'https://www.indeed.com/pagead/clk?mo=r&ad=-6NYlbfkN0DhVAxkc_TxySVbUOs6bxWYWOfhmDTNcVTjFFBAY1FXZ_jbp8Q_DSbxEHI3oKBhlFywPKy8iEN-gq8roOtT4ohp8abkIHTSghCdCmnimgLoJRmYEsD83gx1YNxC4N5c9xQIy6hrdKGIpflODn0WqoJpircI1Xlybh6_XzZ_xX-PrNj9lVc-GaBloLohKJpjfgqowNeYo0ekcH0OJIiU89HzwguRc0Q7EJ8u4e9qq-inlq6_ITThSnhyevKvDq7jnjNk5bpq_pFQPKd2A9b7zjgCsJ2fWrYZ9FTU0-w0ouNo7uJfmuV_aoBsYUxKrFzhW-uEZSDA9kKKElrR9rtujNStAe1aQL7ceBDPQASfbDaokJ_83nBefGfQdJ_bi_NpUdKLwu70le770Fa_0H4XPgZCS4mCJvONFoyNp46iHfc578c_ejJ7wYi3iaxclB1U8QlgFliM_hx-Qg==&vjs=3&p=2&sk=&fvj=0',\n",
       " u'https://www.indeed.com/pagead/clk?mo=r&ad=-6NYlbfkN0AMJeVuk4ECd5K_1LfpdW7JxefdFJh_RJqhU5XMhpZ8EfxDLCxSSPXlPWaXB-ucFdQ0k4SXNq2wM2BfIscOVjXgBGhmiBv8G6BL2RCKbfjTrAt2Gdt6bQwierE34ZQp6StocDklvzqulTZ59PEuo2UN2NeLBTjIAt0_6G2yFTjN4lcWOxujsGVjk_hTT5cseSa0joPjy64xtQER_90OFLaym1Bwspke36ynMdOD8kr8GoYKxURn2TygKyuGFZLBhTG5gfclQ8dFhKkuFAnGf-0eDiGXD4O01Oqy_5LmCt7C3497XRgt3UEjTfemTkKxwCbPZcLtfaDij-wXLyciGakQkg6AuUV2WeCuTazD37xu0IWCYRsavpY4JkqcnV_3CfQSfw-JQyGhlQydyB_C7XLIPsPWGNqLmW5dqiPIc1mJTFyeNfcAhQqR-IntXTQ9Q1BE131qmDr-Mge7ROmY0CDC35M4hkw3-twh1SQP0sMyl5rX1ol36hpPDQjJkBnN8WwfWap_Klwh-LmOMDNgJE-4QscO-Rj8m7Md74fET451SXjYOid59f-UYL5hgfJmUg5_CSeb2u11x1DYRN9Ec-IgSQp80A1SLr8TE-xSLF5YDw==&vjs=3&p=3&sk=&fvj=0',\n",
       " u'https://www.indeed.com/rc/clk?jk=376f255f12347ad8&fccid=884615a889cb7d81&vjs=3',\n",
       " u'https://www.indeed.com/company/Rashmi/jobs/Data-Scientist-ebdbfaf486d0566c?fccid=39632308f571c6d7&vjs=3',\n",
       " u'https://www.indeed.com/company/Scriptedin/jobs/Data-Science-Internship-89411a98394d8be5?fccid=203a58b085c65aaf&vjs=3',\n",
       " u'https://www.indeed.com/rc/clk?jk=e0a5ead3f3c29330&fccid=dd03116e6e960b93&vjs=3',\n",
       " u'https://www.indeed.com/rc/clk?jk=a8c9f65f099fa15f&fccid=8e62baf61c1eb713&vjs=3',\n",
       " u'https://www.indeed.com/rc/clk?jk=efbb58c83a69e008&fccid=6ae120d562656824&vjs=3',\n",
       " u'https://www.indeed.com/rc/clk?jk=4268ce027f3fc37e&fccid=734cb5a01ee60f80&vjs=3',\n",
       " u'https://www.indeed.com/rc/clk?jk=951105fcf73b97b7&fccid=fd03a1a845b02aae&vjs=3',\n",
       " u'https://www.indeed.com/rc/clk?jk=1c90c455d5008804&fccid=fe404d18bb9eef1e&vjs=3',\n",
       " u'https://www.indeed.com/rc/clk?jk=88353fe52999130e&fccid=ba38f2566efaa28f&vjs=3',\n",
       " u'https://www.indeed.com/pagead/clk?mo=r&ad=-6NYlbfkN0AMJeVuk4ECd5K_1LfpdW7JxefdFJh_RJqhU5XMhpZ8EfxDLCxSSPXlPWaXB-ucFdSStkipA3z6gDsg5rtwTRhhksiVki51wYLTiV4jgfZrYuN5dPa3-ovFYZ_9udK7GXShP-4m9E0bUJZ_dt_LcTk0-NkPPi0jJG12O3kA8MzU-ICRORl9jdxXCU0Jze_Z_JynCSuLtv1s7isdklxUJVabdUDZ-_rylDqRmxguaOIEd7fAT3OQ3RW2I7pE6lbBCF17JV6jlcUF3fLlRXHdX5-BUOUipi2KPeF8R2VWTEftak40QvQSpQKZC0h5CQ6NuqR46oDWGZjvMEbs8ELQqi3uonVSXQjJOXshY2_64ZUtI5Nb27uDSf56giKuIfjfSNg-QpdhaHlThNm3vRqFMPM1YAj4zmu-QyyflOv5_4Q1pEu7TXMOHxNROpv6YTk8myUJl292h3Co2Sg93mOxSIq4OpXOdl2ROrtp_AirICm0tZeCN-k_Xb6MIEflDyQinLQWRR3o-uJnxQhustLfrOcHdmHNPV0KviCoH1_mOZ-ERmcDaSfk6C5vP8pXyyHGCSaVZ7SA6K-vXhuTav6PzeDG7qvT3TLmOzsWMjoJSY31Sg==&vjs=3&p=4&sk=&fvj=0',\n",
       " u'https://www.indeed.com/pagead/clk?mo=r&ad=-6NYlbfkN0D6N_YvCEOtyrASauy5EjKuXlD4b0DhlGZ_7VkOh0nBFnzUO0Ba-o-77q0n_EiIkpdHE0NYZT342JB8BUaCeAwlNrX_5NH7Lb5oPBh6Zb_RybELKM3xrmqEd63Nhxwz6Me2BG4dGMHmNCLrKjGkIZe8JAAV9ZUUGC7RkF5v0ASdToPGst7iobRV4Z-msSR7wBJyJbGyvpT9gb12GQOuGivJgLNtD8Ea7H2eyOxwGqHQIqDdM5Uv8U9tfpeQUs624VlwI2Qt6rirRy-UZpOWyfBuqxvYkBHG9XBZ_Ibu2Pbh57vYsndQsd-YogSS4yvzu82BRVPotW5TA_NM04WliWMuB5RpQH8LPlz_cD5EOLP5suO1FGPKuI9wX1_vM42s7OLgtAXf3dkj37yUgu949fcV0R_WwYgpaNhOlhiMjgGG3gau0FEPJIrUWA6v4yNjn6AA7lD_cLDOL7f_yn9Lc4VZjuPpPp55o_GR-PcuvfgNPREBcu9523rxCUjCewQOggveBGQK390nsaeRymMIxR57on3GSI2G7qY=&vjs=3&p=5&sk=&fvj=0',\n",
       " u'https://www.indeed.com/pagead/clk?mo=r&ad=-6NYlbfkN0Cfk0snhZndNwX7uXgC05fLlvJSb7RrLTWxBCJZfaaW5v_6dOj1owJ7abUPCsjpkiJdebg48ZVqvZ7PovV5pm3T6Yw2Mg5SuBW10SnTCot8s7R5Mm_AbF7ZeWa50XqWoJ1PA0c_oYyEoNy3fIqfACMdgEcNZOj4-bAKpMawlKAGZ0acA_1Hck7OjBamfxBbbxVfcj-176mj9WxVugD03jSpZwwdJhk24olMCu6QDltzYsdboJE9oKK7wyLxgPQf6h8e3PuScj6JaJ3CaachTrk4WpYR-BV9zlLe3S2cX_nuxe6mguGeee2BeWFrxgq4IdX9MjnQtP_YM1PWx2vTinBHmcdejQ6Jt1I_iwRNWFaypngQHVJvA1INcGT4AXEwGEqwN1BGKIAjTiWGhgevKwTaHiH9NmIJ_R2qQcnnsi_TRv0uWIM2uVz1&vjs=3&p=6&sk=&fvj=0',\n",
       " u'https://www.indeed.com/pagead/clk?mo=r&ad=-6NYlbfkN0Cfk0snhZndNwX7uXgC05fLlvJSb7RrLTWxBCJZfaaW5v_6dOj1owJ7abUPCsjpkiJdebg48ZVqvZ7PovV5pm3T6Yw2Mg5SuBW10SnTCot8s7R5Mm_AbF7ZeWa50XqWoJ1PA0c_oYyEoMI8ytUe8nHyPykrZRVM07a9xM_cC2DT_Rd-Sijw0FWA5XYVfpHRXzahYYC8tbe9Or0CwVAYw_5X4FcYF3zMcSMlYCTDZOQ7P35k9JJbKRky6IQK6MFXOKHZbdshjH7EWgm-PT7PcvpQiJi9wtMlNnmTcm1Mb-tVNvkdLigjMnhLEHC9CCyoFCCbvDOm-vp2nJwM0rhaKWs-Tgh9NE3KEROWr2E6VhR6XhHQ7rrtto7KFS0waU06BHJz_An0X3A6VwB1fa1HToxn2kCDFI-PZaAPohoxlp73zA==&vjs=3&p=1&sk=&fvj=0',\n",
       " u'https://www.indeed.com/pagead/clk?mo=r&ad=-6NYlbfkN0D6N_YvCEOtyrASauy5EjKuXlD4b0DhlGZ_7VkOh0nBFnzUO0Ba-o-77q0n_EiIkpdHE0NYZT342JB8BUaCeAwlNrX_5NH7Lb5oPBh6Zb_RybELKM3xrmqEd63Nhxwz6Me2BG4dGMHmNCLrKjGkIZe8ia-LORFcikpW-gjWQDdBNxuKSFFZtlygjAKwwkOqOKUmzkdoWYZ-yoi4UOpzFCj6gri113X0tX3v38MbQpa5Eri3nTsvAJWQtcjaztUruXnclb3exQV3kvE7DNAw_XrKu-fse5HGAjtJM8cbR0lie5HNlY0d8-pmC3CEOzsbuPv00Q-_ryU0DpcYrKwbnLA3ECoWbY0nUCkCqru8zbYGhMbTXx4cnWqgr1Im_saK1rDD8w2jiCp9CJ25lcQEvjGEB_QD8zY-oATEngIebXlM2jg6YuQFPOEYJjk6jaZDgMdoOiLEpa1KCMNIPBAp5455xohseg3Q9cKVk_5JPnO2i6SMJsA8NeZMaQoqiEPySaycCGRqSx6EsmPRY92ExQbm4gV6aQ3H56g=&vjs=3&p=2&sk=&fvj=0',\n",
       " u'https://www.indeed.com/pagead/clk?mo=r&ad=-6NYlbfkN0AMJeVuk4ECd5K_1LfpdW7JxefdFJh_RJqhU5XMhpZ8EfxDLCxSSPXlPWaXB-ucFdQ0k4SXNq2wM2BfIscOVjXgBGhmiBv8G6BL2RCKbfjTrAt2Gdt6bQwierE34ZQp6StocDklvzqulTZ59PEuo2UNmF-dsEy3M4DzchqSv-gOuxa_-cSUouezF2Tq5tHLj6qz9iAFm3y2Cwd65r7F0KDGsKpKyF0-x6d1CgwalbR9JRpd04IeuTP8Im2-wZZnQXSTsPYxIjBM4AmnkDwtWCwucFboWYtInJthfpC5jEFzPYLx7W1gIWZIk3W7FOIYfLQQgFTgLaMbq_GruKZWOuljgGRHADb3Z0gdwr2mGkkGPydBWgWHI_ElIA9qjdFri6PtZZXqKFcGdei_2Sefxiq42li_AmY-KwQTB8hWiJrTUcXDCLjLTGV6DB6sUERGdxwUFbceAAdhr7PkdJyBZLIb_uhyHOfTLoLLCj6FxW3sQai76-XDfdaT_xQ4LuqvKEC8QpL5NZNzHKMNzXLJpdI_D16o4E9M7R-4Lg2LgcQlrdKgc_aicspZTwg_18MxZOCmSAzn9JVgoGLBNMMZD6wVHW7fnUEs1CC51cA5vOMQsQ==&vjs=3&p=3&sk=&fvj=0',\n",
       " u'https://www.indeed.com/rc/clk?jk=88353fe52999130e&fccid=ba38f2566efaa28f&vjs=3',\n",
       " u'https://www.indeed.com/company/Incept-Data-Solutions,-Inc/jobs/Statistician-659ed958a2d855f3?fccid=7aa88bd77c4e02c5&vjs=3',\n",
       " u'https://www.indeed.com/rc/clk?jk=2d395df7bee3eae9&fccid=48ecd526e3aa3225&vjs=3',\n",
       " u'https://www.indeed.com/rc/clk?jk=3c725cf7902d5a31&fccid=027d7cca25a5d14f&vjs=3',\n",
       " u'https://www.indeed.com/rc/clk?jk=df6605542a062113&fccid=cd32200e1d7a3d24&vjs=3',\n",
       " u'https://www.indeed.com/rc/clk?jk=c71ef60ddccdde03&fccid=d476e731e4d69a57&vjs=3',\n",
       " u'https://www.indeed.com/rc/clk?jk=3176d5e04d6782de&fccid=5f1f0e6dcc6cbc83&vjs=3',\n",
       " u'https://www.indeed.com/rc/clk?jk=6f5ef8c2d061c86b&fccid=f709b685f8df006f&vjs=3',\n",
       " u'https://www.indeed.com/rc/clk?jk=36a115b4ff512060&fccid=617d7f961cfcf54a&vjs=3',\n",
       " u'https://www.indeed.com/company/ZEALTECH-INC/jobs/Data-Scientist-43a67dd393bf4c47?fccid=c21db0d9fe4f4ff7&vjs=3',\n",
       " u'https://www.indeed.com/pagead/clk?mo=r&ad=-6NYlbfkN0BgZHUyKAHIVKcSyLGwR98WA5flU5dhrEpfczjGUWryMhFlsbhV70979QUlO4of1hVMRXnAUjupIEdE0e_hbI9qibn7oue2EqiYYvnB-zl-L3EzF4c_7Go6quprEzDj4oZspe8ghZ_QcEzUYzZegSkt5R2equ1Mln8wXvoH7_e36e_0Em-0b3j4ElCC2suXGhxtNBsy0oBLKuve_KDdotfzuEZkE0wivc2Akv-9ueHRi1gdZrdldPWgZO6xa7tcR2sZRTB7UA6Bgi3RhRe2PlZWiIc6aCjOA2fNSYazxkn_6zNlulx0rDOG1Lr6kGNwJxQeepw12nXHemLuatWCFQrsKHZNz35fwjw_1VitUlUI8_KNZm1CjgNrwujjpYctsWdy6TQkGSf0p0eWS1ZEtQpWroW0LfAUTXFDkNXk-n-MGg==&vjs=3&p=4&sk=&fvj=1',\n",
       " u'https://www.indeed.com/pagead/clk?mo=r&ad=-6NYlbfkN0CiRNM7CVr8YueLFKlzwbFWI0o7IjV438l4sVrvKZ0fliTfoNv_ONF5FvJKNaJe41M7uyHW3kQOx2mPLbyfHJrFibS8F_msQu_MlWjic_0TIT8kbijLi-SyF4s7ZGtapxUV77CxdS_5T7PKfmo-u99uvkjUdqwgwaeYUIPcJqqR9s9ApoZd5GTgl8pRmyDBHUxIM-jXIqgZBXiNbX9q0oGPEvI9eo_MephinrIbU7fW8EdToLquK2YjG8f7pzzVSpCygJMEnLpNlBt1fV4OGZ0e-IlycvKaRg_48nNYa-IGqxN5ZGm4jDr1AXI7VUMx8oT6Vx-B3FUtb-w05t0JoFSI2uHiEDd_nvY0jye_rHeYjVgxNM7P-eoktkpTS0ZSbS6D6i2S5klYUnUNQyPKOox3Hu8vc3fe57S4Jmr6YbJLiy6IlyA9la5iehOzPlX-ndnFOAzrkZuzYA41sswcyDHACC3hyKoDpL4RtrY7N_G5woy8abfqgvsAtnj9_xIyjHrt55Q04rGm2g==&vjs=3&p=5&sk=&fvj=0',\n",
       " u'https://www.indeed.com/pagead/clk?mo=r&ad=-6NYlbfkN0CsfdziGcgPFzRLQEEL-dAjxA4MCuzdnvsSgC-lFWMKhu5WHIXvdQ5IggPquQ7fBsAKNQ4xgR8rxa99dhbyl0E6xQ_x1G0Rupy-qkVd2GrDEwa_jbHLARm46YBpjWjOQXtjg0EYST_g1hrN8eQqgbkzGkKmTLlaHL6DLa7AniA7vQFXdqmhXGEzX4HacIB-z9zpweRApHOw6fBlIGlaIa6J3X8SrgC8YM9oqEUJlQPuW_O1Y334pwa9W03GibLsVKF23Ij69OLeY2w6z17N6XNFLTF5uMSgV29YFP4yDhxv2cKF_O_L7IZ37oW6TkqHIUfgLhbsF6vSOIji9AtQ4KkYzEaECDcl6Gg2lAwxbm3pBSuvKOgB8lR1C1oKPItYzLuOte11VicdbotfYVhvqjF4IWKAfU-5ShSjt37PZ1d_kQ==&vjs=3&p=6&sk=&fvj=1']"
      ]
     },
     "execution_count": 2,
     "metadata": {},
     "output_type": "execute_result"
    }
   ],
   "source": [
    "get_url()"
   ]
  },
  {
   "cell_type": "code",
   "execution_count": 3,
   "metadata": {
    "collapsed": false
   },
   "outputs": [
    {
     "name": "stdout",
     "output_type": "stream",
     "text": [
      "80\n"
     ]
    }
   ],
   "source": [
    "print len(links)"
   ]
  },
  {
   "cell_type": "code",
   "execution_count": null,
   "metadata": {
    "collapsed": true
   },
   "outputs": [],
   "source": []
  }
 ],
 "metadata": {
  "kernelspec": {
   "display_name": "Python 2",
   "language": "python",
   "name": "python2"
  },
  "language_info": {
   "codemirror_mode": {
    "name": "ipython",
    "version": 2
   },
   "file_extension": ".py",
   "mimetype": "text/x-python",
   "name": "python",
   "nbconvert_exporter": "python",
   "pygments_lexer": "ipython2",
   "version": "2.7.13"
  }
 },
 "nbformat": 4,
 "nbformat_minor": 2
}
