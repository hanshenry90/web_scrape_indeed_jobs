{
 "cells": [
  {
   "cell_type": "code",
   "execution_count": 1,
   "metadata": {
    "collapsed": true
   },
   "outputs": [],
   "source": [
    "import requests\n",
    "from urllib import urlencode # This module provides a high-level interface for fetching data across the World Wide Web\n",
    "from bs4 import BeautifulSoup\n",
    "import re\n",
    "import numpy as np\n",
    "from time import sleep\n",
    "from nltk.tokenize import sent_tokenize, word_tokenize\n",
    "\n",
    "links=[]\n",
    "\n",
    "def get_url():\n",
    "    \n",
    "    \"\"\"Get the main searching page url\"\"\"\n",
    "    base = 'https://www.indeed.com/jobs?'\n",
    "    q = 'data scientist'\n",
    "\n",
    "    for i in np.linspace(10, 50, 5, dtype= 'int'):\n",
    "        page = i\n",
    "        url = base + urlencode({'q':q}) + '&' + urlencode({'start':page})\n",
    "        print url\n",
    "        \n",
    "        sleep(10) # added delay to ensure indeed server does not reject url requests\n",
    "        \n",
    "        \"\"\"Scraping job title href links from the main searched page \"\"\"\n",
    "        try:\n",
    "            r = requests.get(url)\n",
    "        except requests.exceptions.ConnectionError: # solves for indeed server rejecting url requests\n",
    "            r.status_code = \"Connection refused\"\n",
    "            \n",
    "        soup =  BeautifulSoup(r.text, 'html.parser') # parse into html\n",
    "        results = soup.find_all('a', attrs={'data-tn-element':'jobTitle'})\n",
    "\n",
    "        base_2 = 'https://www.indeed.com'\n",
    "\n",
    "        for i in results:\n",
    "            links.append(base_2 + i['href'])\n",
    "\n",
    "    return links"
   ]
  },
  {
   "cell_type": "code",
   "execution_count": 2,
   "metadata": {
    "collapsed": false
   },
   "outputs": [
    {
     "name": "stdout",
     "output_type": "stream",
     "text": [
      "https://www.indeed.com/jobs?q=data+scientist&start=10\n",
      "https://www.indeed.com/jobs?q=data+scientist&start=20\n",
      "https://www.indeed.com/jobs?q=data+scientist&start=30\n",
      "https://www.indeed.com/jobs?q=data+scientist&start=40\n",
      "https://www.indeed.com/jobs?q=data+scientist&start=50\n"
     ]
    }
   ],
   "source": [
    "x = get_url()"
   ]
  },
  {
   "cell_type": "code",
   "execution_count": 3,
   "metadata": {
    "collapsed": false
   },
   "outputs": [
    {
     "name": "stdout",
     "output_type": "stream",
     "text": [
      "80\n"
     ]
    }
   ],
   "source": [
    "print len(links)"
   ]
  },
  {
   "cell_type": "code",
   "execution_count": 4,
   "metadata": {
    "collapsed": false
   },
   "outputs": [
    {
     "data": {
      "text/plain": [
       "[u'https://www.indeed.com/pagead/clk?mo=r&ad=-6NYlbfkN0D6N_YvCEOtyrASauy5EjKuXlD4b0DhlGZ_7VkOh0nBFnzUO0Ba-o-77q0n_EiIkpdHE0NYZT342JB8BUaCeAwlNrX_5NH7Lb5oPBh6Zb_RybELKM3xrmqEd63Nhxwz6Me2BG4dGMHmNLdfikt8UrCuqKY8LhV9XY0I36z-F5X7DCsqzU7xUU2APhjB2ng2bAtxckV2UcFYze5MG68HxDclFkjyQbARKwNXvbhfPM2rxElF4pigYPwWSOonR_mNxiJt9xnTQs9oZyZi-6VTNjr3BpT1buDvwQPO5XH4U-02_bZpt9TNM4-i4gnJ2kT7BCp2QBshnK5e1GBwacs56bN9mbikhpx9qvs3MhWMQQwRKlYcTewCuwoE3Mx9gAERFKf0yZ0QytfIXHi7P-492PA5b8cjWM316i1uUwVTWoM7eP2IJEQWBPWxHdCvn4aq9TxV2EH8KGd16-QI4qsAFZBwa76pejcMQbVUO65O5I2BRA37lkGB_yc70L-F1BK49i7bXoMiOuOmBrAGE3sCSgQcbBx_hQG2v9A=&vjs=3&p=1&sk=&fvj=0',\n",
       " u'https://www.indeed.com/pagead/clk?mo=r&ad=-6NYlbfkN0AMJeVuk4ECd5K_1LfpdW7JxefdFJh_RJqhU5XMhpZ8EfxDLCxSSPXlPWaXB-ucFdSStkipA3z6gDsg5rtwTRhhksiVki51wYLTiV4jgfZrYuN5dPa3-ovFYZ_9udK7GXShP-4m9E0bUCWCUPnhcyyBglzwKze5GbW08_un4BbcRi3qIzeggSke9IPaUeyMtwoJzJJl2NKUFhyTwW5hhJSkbyslqJK-yZEY3C0oPeIwKtgyBjkgABA2hEZFCDLAs0RewQDX5bR2sX8qSqp80WVghXAkVkoGn9O2rogeSECCzYViegZEfXxgXRQ2wKSskEDck8fDvvdM1K4tAILoiMKmJ_AiISLhcjDD6a7DdfIDI7sUeQhb6bSJlhgpAGrLyVunxWn90TnfatZA2EvAYZPyDM6zMfAfVSzzuKiUJpDRUlgiydwZ19AA2qU9LgLzjcDeyECUVQx_ewxoQabk6l08JRqJCHc2cIOWCUgjIcKGjOxNX6hM_X5TbNilI-Yn1a24R7Z-cSAXva1NEaIoWaFADtqtA4wLZrMVTJvV6lVjVtebqjp7t6iY1rzVWOHphwqKxhjglkLCnDl5FsxzL0q-M50b4nxhpjE8Ji9CU9GOfwAy5pcLk-Nf&vjs=3&p=2&sk=&fvj=0',\n",
       " u'https://www.indeed.com/pagead/clk?mo=r&ad=-6NYlbfkN0AMJeVuk4ECd5K_1LfpdW7JxefdFJh_RJqhU5XMhpZ8EfxDLCxSSPXlPWaXB-ucFdR2wXZnGOumXYiUc6t9K4EbrJ7fvFmAN6KtszHkDE_XU4KfO_dqr3NHgXZRQNqQwrGUr7URcMVqA8gNOsAgZvAuStoA-3EzMMMyqicIIpFVOx28Wc2iEP4zqIspStpFUZXSTVcfBTpv4N_14i0eZEYp7priUfz-RwFAwF1Wkmm_4D_z--bjD4WbfaypGRU12zd-2PnucXq9jdHvqSTlyugen5xgAuTg6mIEvPyfRc00kQzD6W_v2oa47b_7hugwrNgLKPgtkhhaer-e1mSybZEMLOmTjQV8nJm2rA3LM9jys8q8mBUjYYdZfllyqSo__67oZhyDXFEEbsKUZ72dUjRL0BMel7BUYV7A2uFVPRJVn7xngtTjZJCw0ny2OuaArEA-Z3j0BP7rpZdDiFoWdQd8YqTkBY4rmkQe3TBd3EPB-BOyDcUazy7AhEtDKRb_9_K2vFOFHO4slx-8QVMGHGbQYIQ7azOW1G0Pq9qpEuPe-X652k8sdVktkvf0CF8pJJRTg2gTkVCTt3l1U5ujZ8Kf7UEBu5cBdHlWHEDWZHQohrQRkF_IYbdf&vjs=3&p=3&sk=&fvj=0',\n",
       " u'https://www.indeed.com/pagead/clk?mo=r&ad=-6NYlbfkN0AOwhgWb2tfnTy_JO7-9nG7Dmu0-I7QwNgZTDKuDY7tiQoTw5xO-xk3n7bOMqIKlzqLMZAGaGgtlIaxkjB0iTuJwp-ig8wZhZsxGsn3SnrWEJJxW6ImxlOp6tpHczxsdYveRG75vtfj-cS4mIG4xLlvYLOJYuwIFzzGFdeFj6MQKjYjauPHMGPUnbUDGAEfnAQUCRp_3FOyj42Plf9Ia2BkwmvkLrWZwclulfFLVwsryjAmn0jAjfYMSHhZwv8VwoXeOXej5sBWO_Y9q0rkx8y-yhKyy9A5KoCBB2XBpubjh_a0hy03Xu7q4ww-N2D-1lenbjVo-pUQvXr7LrDJW70YUPFS9weX04_rdhuy1J_cVbCCvMdVLy-nAmX0swpAFL5fdqy9kjT76Q3VCW9sDbCK2t87B3kqniw=&vjs=3&p=4&sk=&fvj=1',\n",
       " u'https://www.indeed.com/rc/clk?jk=045c75c90fef739d&fccid=c46d0116f6e69eae&vjs=3']"
      ]
     },
     "execution_count": 4,
     "metadata": {},
     "output_type": "execute_result"
    }
   ],
   "source": [
    "x[:5]"
   ]
  },
  {
   "cell_type": "code",
   "execution_count": 5,
   "metadata": {
    "collapsed": true
   },
   "outputs": [],
   "source": [
    "\"\"\"Scrape keywords of each job posting page and store them in a list\"\"\"\n",
    "\n",
    "import itertools\n",
    "from nltk.stem import WordNetLemmatizer\n",
    "import pandas as pd\n",
    "\n",
    "lem = WordNetLemmatizer()\n",
    "\n",
    "list_strings=[]\n",
    "word=[]\n",
    "words=[]\n",
    "words_2=[]\n",
    "words_3=[]\n",
    "lem_words=[]\n",
    "\n",
    "def get_keywords(link):\n",
    "    \n",
    "    for url in link:\n",
    "        r = requests.get(url)\n",
    "        soup = BeautifulSoup(r.text, 'html.parser')\n",
    "#         print soup.find('a', attrs={'data-tn-element':'jobTitle'}).text\n",
    "        result = soup.find_all('ul') # get a list of bullet points with tags        \n",
    "         \n",
    "        for i in result: # REMOVE all tags: get a list of bullet points as strings\n",
    "            for j in i.find_all('li'):\n",
    "                list_strings.append(j.text)                \n",
    "        \n",
    "        for i in list_strings: # tokenize strings into individual words\n",
    "            word.append(word_tokenize(i))\n",
    "            \n",
    "        words = list(itertools.chain.from_iterable(word)) # join all lists of tokenized words\n",
    "        \n",
    "        pattern = re.compile(r'[^a-zA-Z+]') # clean up words, REMOVE all that's not a word\n",
    "\n",
    "        for i in words:\n",
    "            words_2.append(pattern.sub(r'', i))        \n",
    "        words_3 = filter(None, words_2)        \n",
    "        \n",
    "    for i,j in enumerate(words_3):\n",
    "        k = lem.lemmatize(j, pos='v')\n",
    "        k = k.lower()\n",
    "        lem_words.append(k.decode('unicode_escape').encode('ascii', 'ignore'))\n",
    "    \n",
    "#     df = pd.DataFrame(lem_words)\n",
    "#     df.to_csv('skills.csv') # save cleaned up words into csv file\n",
    "\n",
    "    return lem_words"
   ]
  },
  {
   "cell_type": "code",
   "execution_count": 6,
   "metadata": {
    "collapsed": false
   },
   "outputs": [],
   "source": [
    "y = get_keywords(links)"
   ]
  },
  {
   "cell_type": "code",
   "execution_count": 7,
   "metadata": {
    "collapsed": false
   },
   "outputs": [
    {
     "data": {
      "text/plain": [
       "15499052"
      ]
     },
     "execution_count": 7,
     "metadata": {},
     "output_type": "execute_result"
    }
   ],
   "source": [
    "len(lem_words)"
   ]
  },
  {
   "cell_type": "code",
   "execution_count": 8,
   "metadata": {
    "collapsed": false
   },
   "outputs": [
    {
     "data": {
      "text/plain": [
       "['artificial',\n",
       " 'intelligence',\n",
       " 'job',\n",
       " 'in',\n",
       " 'cambridge',\n",
       " 'ma',\n",
       " 'jobs',\n",
       " 'at',\n",
       " 'philips',\n",
       " 'lighting']"
      ]
     },
     "execution_count": 8,
     "metadata": {},
     "output_type": "execute_result"
    }
   ],
   "source": [
    "lem_words[:10]"
   ]
  },
  {
   "cell_type": "code",
   "execution_count": 9,
   "metadata": {
    "collapsed": true
   },
   "outputs": [],
   "source": [
    "\"\"\"Update frequency of each skills and store them in a dictionary\"\"\"\n",
    "\n",
    "key_dict = {'api':0, 'sql':0, 'excel':0, 'r':0, 'python':0, 'tableau':0, 'sas':0, 'spss':0, 'hadoop':0, 'java':0, 'javascript':0, 'matlab':0, 'c++':0, 'mysql':0, 'ruby':0, 'django':0, 'nlp':0, 'spark':0, 'hive':0, \n",
    "           'nosql':0, 'scala':0}\n",
    "\n",
    "def skills(words):\n",
    "     \n",
    "    for i in words:\n",
    "        for j,k in key_dict.items():\n",
    "            if i == j:\n",
    "                key_dict[j] +=1\n",
    "                \n",
    "    return key_dict"
   ]
  },
  {
   "cell_type": "code",
   "execution_count": 10,
   "metadata": {
    "collapsed": false
   },
   "outputs": [
    {
     "data": {
      "text/plain": [
       "{'api': 9691,\n",
       " 'c++': 2147,\n",
       " 'django': 0,\n",
       " 'excel': 6657,\n",
       " 'hadoop': 42180,\n",
       " 'hive': 16559,\n",
       " 'java': 24002,\n",
       " 'javascript': 903,\n",
       " 'matlab': 8410,\n",
       " 'mysql': 4403,\n",
       " 'nlp': 12891,\n",
       " 'nosql': 7192,\n",
       " 'python': 61292,\n",
       " 'r': 50672,\n",
       " 'ruby': 5868,\n",
       " 'sas': 12899,\n",
       " 'scala': 5892,\n",
       " 'spark': 29725,\n",
       " 'spss': 2514,\n",
       " 'sql': 50343,\n",
       " 'tableau': 25971}"
      ]
     },
     "execution_count": 10,
     "metadata": {},
     "output_type": "execute_result"
    }
   ],
   "source": [
    "skills(lem_words)"
   ]
  },
  {
   "cell_type": "code",
   "execution_count": 11,
   "metadata": {
    "collapsed": true
   },
   "outputs": [],
   "source": [
    "\"\"\"Plot the dictionary of the skills in order of occurences\"\"\"\n",
    "\n",
    "import matplotlib.pyplot as plt\n",
    "%matplotlib inline\n",
    "\n",
    "def bar(dictionary):\n",
    "    y = sorted(key_dict.items(), key=lambda x: x[1], reverse=True)\n",
    "    keys=[]\n",
    "    values=[]\n",
    "    for i,j in y:\n",
    "        keys.append(i)\n",
    "        values.append(j)\n",
    "        \n",
    "    fig=plt.figure(figsize=(18, 16), dpi= 80, facecolor='w', edgecolor='k')       \n",
    "    plt.bar(range(len(keys)), values, tick_label=keys)\n",
    "    \n",
    "    \n",
    "    return"
   ]
  },
  {
   "cell_type": "code",
   "execution_count": 12,
   "metadata": {
    "collapsed": false
   },
   "outputs": [
    {
     "data": {
      "image/png": "[encoded data removed]",
      "text/plain": [
       "<matplotlib.figure.Figure at 0x128ec65d0>"
      ]
     },
     "metadata": {},
     "output_type": "display_data"
    }
   ],
   "source": [
    "bar(key_dict)"
   ]
  },
  {
   "cell_type": "code",
   "execution_count": null,
   "metadata": {
    "collapsed": true
   },
   "outputs": [],
   "source": []
  }
 ],
 "metadata": {
  "kernelspec": {
   "display_name": "Python 2",
   "language": "python",
   "name": "python2"
  },
  "language_info": {
   "codemirror_mode": {
    "name": "ipython",
    "version": 2
   },
   "file_extension": ".py",
   "mimetype": "text/x-python",
   "name": "python",
   "nbconvert_exporter": "python",
   "pygments_lexer": "ipython2",
   "version": "2.7.13"
  }
 },
 "nbformat": 4,
 "nbformat_minor": 2
}
